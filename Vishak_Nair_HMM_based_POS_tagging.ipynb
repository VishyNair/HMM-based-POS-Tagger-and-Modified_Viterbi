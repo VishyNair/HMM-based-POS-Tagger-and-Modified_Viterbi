{
 "cells": [
  {
   "cell_type": "markdown",
   "metadata": {},
   "source": [
    "## POS tagging using modified Viterbi"
   ]
  },
  {
   "cell_type": "markdown",
   "metadata": {},
   "source": [
    "### Data Preparation"
   ]
  },
  {
   "cell_type": "code",
   "execution_count": 1,
   "metadata": {},
   "outputs": [],
   "source": [
    "#Importing libraries\n",
    "import nltk\n",
    "import numpy as np\n",
    "import pandas as pd\n",
    "import matplotlib.pyplot as plt\n",
    "import seaborn as sns\n",
    "from sklearn.model_selection import train_test_split\n",
    "import random\n",
    "import pprint,time\n",
    "from nltk.tokenize import word_tokenize"
   ]
  },
  {
   "cell_type": "code",
   "execution_count": 2,
   "metadata": {},
   "outputs": [],
   "source": [
    "#To download the treebank corpus if not available\n",
    "#nltk.download('treebank')"
   ]
  },
  {
   "cell_type": "code",
   "execution_count": 3,
   "metadata": {},
   "outputs": [],
   "source": [
    "#To download the universal tagset if not available in the system\n",
    "#nltk.download('universal_tagset')"
   ]
  },
  {
   "cell_type": "code",
   "execution_count": 4,
   "metadata": {},
   "outputs": [],
   "source": [
    "#Reading the Treebank dataset of NLTK with universal tagset\n",
    "#The Universal tagset of NLTK comprises only 12 coarse tag classes as follows: \n",
    "#Verb, Noun, Pronouns, Adjectives, Adverbs, Adpositions, Conjunctions, Determiners, Cardinal Numbers, Particles, Other/ Foreign words, Punctuations.\n",
    "nltk_data = list(nltk.corpus.treebank.tagged_sents(tagset='universal'))"
   ]
  },
  {
   "cell_type": "code",
   "execution_count": 5,
   "metadata": {},
   "outputs": [
    {
     "data": {
      "text/plain": [
       "3914"
      ]
     },
     "execution_count": 5,
     "metadata": {},
     "output_type": "execute_result"
    }
   ],
   "source": [
    "#Length of the dataset\n",
    "len(nltk_data)"
   ]
  },
  {
   "cell_type": "code",
   "execution_count": 6,
   "metadata": {},
   "outputs": [
    {
     "data": {
      "text/plain": [
       "[[('Pierre', 'NOUN'),\n",
       "  ('Vinken', 'NOUN'),\n",
       "  (',', '.'),\n",
       "  ('61', 'NUM'),\n",
       "  ('years', 'NOUN'),\n",
       "  ('old', 'ADJ'),\n",
       "  (',', '.'),\n",
       "  ('will', 'VERB'),\n",
       "  ('join', 'VERB'),\n",
       "  ('the', 'DET'),\n",
       "  ('board', 'NOUN'),\n",
       "  ('as', 'ADP'),\n",
       "  ('a', 'DET'),\n",
       "  ('nonexecutive', 'ADJ'),\n",
       "  ('director', 'NOUN'),\n",
       "  ('Nov.', 'NOUN'),\n",
       "  ('29', 'NUM'),\n",
       "  ('.', '.')],\n",
       " [('Mr.', 'NOUN'),\n",
       "  ('Vinken', 'NOUN'),\n",
       "  ('is', 'VERB'),\n",
       "  ('chairman', 'NOUN'),\n",
       "  ('of', 'ADP'),\n",
       "  ('Elsevier', 'NOUN'),\n",
       "  ('N.V.', 'NOUN'),\n",
       "  (',', '.'),\n",
       "  ('the', 'DET'),\n",
       "  ('Dutch', 'NOUN'),\n",
       "  ('publishing', 'VERB'),\n",
       "  ('group', 'NOUN'),\n",
       "  ('.', '.')],\n",
       " [('Rudolph', 'NOUN'),\n",
       "  ('Agnew', 'NOUN'),\n",
       "  (',', '.'),\n",
       "  ('55', 'NUM'),\n",
       "  ('years', 'NOUN'),\n",
       "  ('old', 'ADJ'),\n",
       "  ('and', 'CONJ'),\n",
       "  ('former', 'ADJ'),\n",
       "  ('chairman', 'NOUN'),\n",
       "  ('of', 'ADP'),\n",
       "  ('Consolidated', 'NOUN'),\n",
       "  ('Gold', 'NOUN'),\n",
       "  ('Fields', 'NOUN'),\n",
       "  ('PLC', 'NOUN'),\n",
       "  (',', '.'),\n",
       "  ('was', 'VERB'),\n",
       "  ('named', 'VERB'),\n",
       "  ('*-1', 'X'),\n",
       "  ('a', 'DET'),\n",
       "  ('nonexecutive', 'ADJ'),\n",
       "  ('director', 'NOUN'),\n",
       "  ('of', 'ADP'),\n",
       "  ('this', 'DET'),\n",
       "  ('British', 'ADJ'),\n",
       "  ('industrial', 'ADJ'),\n",
       "  ('conglomerate', 'NOUN'),\n",
       "  ('.', '.')],\n",
       " [('A', 'DET'),\n",
       "  ('form', 'NOUN'),\n",
       "  ('of', 'ADP'),\n",
       "  ('asbestos', 'NOUN'),\n",
       "  ('once', 'ADV'),\n",
       "  ('used', 'VERB'),\n",
       "  ('*', 'X'),\n",
       "  ('*', 'X'),\n",
       "  ('to', 'PRT'),\n",
       "  ('make', 'VERB'),\n",
       "  ('Kent', 'NOUN'),\n",
       "  ('cigarette', 'NOUN'),\n",
       "  ('filters', 'NOUN'),\n",
       "  ('has', 'VERB'),\n",
       "  ('caused', 'VERB'),\n",
       "  ('a', 'DET'),\n",
       "  ('high', 'ADJ'),\n",
       "  ('percentage', 'NOUN'),\n",
       "  ('of', 'ADP'),\n",
       "  ('cancer', 'NOUN'),\n",
       "  ('deaths', 'NOUN'),\n",
       "  ('among', 'ADP'),\n",
       "  ('a', 'DET'),\n",
       "  ('group', 'NOUN'),\n",
       "  ('of', 'ADP'),\n",
       "  ('workers', 'NOUN'),\n",
       "  ('exposed', 'VERB'),\n",
       "  ('*', 'X'),\n",
       "  ('to', 'PRT'),\n",
       "  ('it', 'PRON'),\n",
       "  ('more', 'ADV'),\n",
       "  ('than', 'ADP'),\n",
       "  ('30', 'NUM'),\n",
       "  ('years', 'NOUN'),\n",
       "  ('ago', 'ADP'),\n",
       "  (',', '.'),\n",
       "  ('researchers', 'NOUN'),\n",
       "  ('reported', 'VERB'),\n",
       "  ('0', 'X'),\n",
       "  ('*T*-1', 'X'),\n",
       "  ('.', '.')],\n",
       " [('The', 'DET'),\n",
       "  ('asbestos', 'NOUN'),\n",
       "  ('fiber', 'NOUN'),\n",
       "  (',', '.'),\n",
       "  ('crocidolite', 'NOUN'),\n",
       "  (',', '.'),\n",
       "  ('is', 'VERB'),\n",
       "  ('unusually', 'ADV'),\n",
       "  ('resilient', 'ADJ'),\n",
       "  ('once', 'ADP'),\n",
       "  ('it', 'PRON'),\n",
       "  ('enters', 'VERB'),\n",
       "  ('the', 'DET'),\n",
       "  ('lungs', 'NOUN'),\n",
       "  (',', '.'),\n",
       "  ('with', 'ADP'),\n",
       "  ('even', 'ADV'),\n",
       "  ('brief', 'ADJ'),\n",
       "  ('exposures', 'NOUN'),\n",
       "  ('to', 'PRT'),\n",
       "  ('it', 'PRON'),\n",
       "  ('causing', 'VERB'),\n",
       "  ('symptoms', 'NOUN'),\n",
       "  ('that', 'DET'),\n",
       "  ('*T*-1', 'X'),\n",
       "  ('show', 'VERB'),\n",
       "  ('up', 'PRT'),\n",
       "  ('decades', 'NOUN'),\n",
       "  ('later', 'ADJ'),\n",
       "  (',', '.'),\n",
       "  ('researchers', 'NOUN'),\n",
       "  ('said', 'VERB'),\n",
       "  ('0', 'X'),\n",
       "  ('*T*-2', 'X'),\n",
       "  ('.', '.')]]"
      ]
     },
     "execution_count": 6,
     "metadata": {},
     "output_type": "execute_result"
    }
   ],
   "source": [
    "#Viewing the first 5 sentences of the treebank dataset\n",
    "nltk_data[:5]"
   ]
  },
  {
   "cell_type": "markdown",
   "metadata": {},
   "source": [
    "##### Train-Test Splitup"
   ]
  },
  {
   "cell_type": "code",
   "execution_count": 7,
   "metadata": {},
   "outputs": [],
   "source": [
    "#Train-Test split up on the dataset\n",
    "#sample size of 95:5\n",
    "#keeping the validation size small, else the algorithm will need a very high amount of runtime.\n",
    "random.seed(1234)\n",
    "train_set,validation_set = train_test_split(nltk_data,test_size=0.05,random_state=101)"
   ]
  },
  {
   "cell_type": "code",
   "execution_count": 8,
   "metadata": {},
   "outputs": [
    {
     "name": "stdout",
     "output_type": "stream",
     "text": [
      "3718\n"
     ]
    }
   ],
   "source": [
    "#Length of the train set\n",
    "print(len(train_set))"
   ]
  },
  {
   "cell_type": "code",
   "execution_count": 9,
   "metadata": {},
   "outputs": [
    {
     "name": "stdout",
     "output_type": "stream",
     "text": [
      "196\n"
     ]
    }
   ],
   "source": [
    "#Length of the test/validation set\n",
    "print(len(validation_set))"
   ]
  },
  {
   "cell_type": "markdown",
   "metadata": {},
   "source": [
    "Now we can get each pair of tagged word and the corresponding tag from the train set,seperately into a list"
   ]
  },
  {
   "cell_type": "code",
   "execution_count": 10,
   "metadata": {},
   "outputs": [],
   "source": [
    "tagged_words_from_train = [pair for sent in train_set for pair in sent]"
   ]
  },
  {
   "cell_type": "code",
   "execution_count": 11,
   "metadata": {},
   "outputs": [
    {
     "data": {
      "text/plain": [
       "95547"
      ]
     },
     "execution_count": 11,
     "metadata": {},
     "output_type": "execute_result"
    }
   ],
   "source": [
    "len(tagged_words_from_train)"
   ]
  },
  {
   "cell_type": "markdown",
   "metadata": {},
   "source": [
    "Hence, there are about 95547 words tagged(where same word can occur rerepeatedly), present in the train set."
   ]
  },
  {
   "cell_type": "code",
   "execution_count": 12,
   "metadata": {},
   "outputs": [],
   "source": [
    "#Tokens - All the words of the tagged train set\n",
    "token = [pair[0] for pair in tagged_words_from_train]"
   ]
  },
  {
   "cell_type": "code",
   "execution_count": 13,
   "metadata": {},
   "outputs": [
    {
     "name": "stdout",
     "output_type": "stream",
     "text": [
      "['Reliance', 'confirmed', 'the', 'filing', 'but', 'would', \"n't\", 'elaborate', '.', '*']\n"
     ]
    }
   ],
   "source": [
    "print(token[:10])"
   ]
  },
  {
   "cell_type": "markdown",
   "metadata": {},
   "source": [
    "So we know,the vocabulary in hand would be the distinct words of the dataset. We can find out that now."
   ]
  },
  {
   "cell_type": "code",
   "execution_count": 14,
   "metadata": {},
   "outputs": [],
   "source": [
    "vocab = set(token)"
   ]
  },
  {
   "cell_type": "code",
   "execution_count": 15,
   "metadata": {},
   "outputs": [
    {
     "data": {
      "text/plain": [
       "12100"
      ]
     },
     "execution_count": 15,
     "metadata": {},
     "output_type": "execute_result"
    }
   ],
   "source": [
    "len(vocab)"
   ]
  },
  {
   "cell_type": "markdown",
   "metadata": {},
   "source": [
    "So, we are having <b> 12100 </b> words in hand from our train dataset."
   ]
  },
  {
   "cell_type": "code",
   "execution_count": 16,
   "metadata": {},
   "outputs": [],
   "source": [
    "# number of tags\n",
    "T = set([pair[1] for pair in tagged_words_from_train])"
   ]
  },
  {
   "cell_type": "code",
   "execution_count": 17,
   "metadata": {},
   "outputs": [
    {
     "data": {
      "text/plain": [
       "12"
      ]
     },
     "execution_count": 17,
     "metadata": {},
     "output_type": "execute_result"
    }
   ],
   "source": [
    "len(T)"
   ]
  },
  {
   "cell_type": "code",
   "execution_count": 18,
   "metadata": {},
   "outputs": [
    {
     "name": "stdout",
     "output_type": "stream",
     "text": [
      "{'.', 'X', 'VERB', 'ADV', 'CONJ', 'NOUN', 'PRON', 'NUM', 'ADJ', 'DET', 'PRT', 'ADP'}\n"
     ]
    }
   ],
   "source": [
    "print(T)"
   ]
  },
  {
   "cell_type": "markdown",
   "metadata": {},
   "source": [
    "So all the words of the train set of the treebank are tagged with any of the above tags."
   ]
  },
  {
   "cell_type": "markdown",
   "metadata": {},
   "source": [
    "#### Transition and Emission Probabilities"
   ]
  },
  {
   "cell_type": "markdown",
   "metadata": {},
   "source": [
    "We know that the `emission probability` of a word 'w' for tag 't' is given by - <br>\n",
    "<b> P(w|t) = Number of times w has been tagged t / Number of times t appear </b> <br>\n",
    "Hence we will try implementing the same using below function."
   ]
  },
  {
   "cell_type": "code",
   "execution_count": 19,
   "metadata": {},
   "outputs": [],
   "source": [
    "#Computing the Emission Probability\n",
    "def word_given_tag(word,tag,train_bag=tagged_words_from_train):\n",
    "    tag_list = [pair for pair in train_bag if pair[1]==tag]\n",
    "    count_tag = len(tag_list)\n",
    "    w_given_tag_list = [pair[0] for pair in tag_list if pair[0]==word]\n",
    "    count_w_given_tag_list = len(w_given_tag_list)\n",
    "    return(count_w_given_tag_list,count_tag)"
   ]
  },
  {
   "cell_type": "code",
   "execution_count": 20,
   "metadata": {},
   "outputs": [
    {
     "data": {
      "text/plain": [
       "(28, 6069)"
      ]
     },
     "execution_count": 20,
     "metadata": {},
     "output_type": "execute_result"
    }
   ],
   "source": [
    "#We can just see an example for emission probability say for word - 'large' given tag - 'Adjective'\n",
    "word_given_tag('large','ADJ')"
   ]
  },
  {
   "cell_type": "markdown",
   "metadata": {},
   "source": [
    "The output indicates out of 6069 adjective tags present in the train bag, 28 times word large has been tagged as adjective."
   ]
  },
  {
   "cell_type": "markdown",
   "metadata": {},
   "source": [
    "We know that the `transition probability` of tag t1 followed by tag t2 is given by - <br>\n",
    "<b> P(t2|t1) = No. of times t1 is followed by tag t2 / Number of times t1 appear </b> <br>\n",
    "Hence we will try implementing the same using below function."
   ]
  },
  {
   "cell_type": "code",
   "execution_count": 21,
   "metadata": {},
   "outputs": [],
   "source": [
    "#Computing the Transition Probability\n",
    "def t2_given_t1(t2,t1,train_bag=tagged_words_from_train):\n",
    "    tags=[pair[1] for pair in train_bag]\n",
    "    count_t1 = len([t for t in tags if t==t1])\n",
    "    count_t2_t1 = 0\n",
    "    for index in range(len(tags)-1):\n",
    "        if tags[index]==t1 and tags[index+1]==t2:\n",
    "            count_t2_t1 += 1\n",
    "    return(count_t2_t1,count_t1)"
   ]
  },
  {
   "cell_type": "code",
   "execution_count": 22,
   "metadata": {},
   "outputs": [
    {
     "data": {
      "text/plain": [
       "(1058, 12910)"
      ]
     },
     "execution_count": 22,
     "metadata": {},
     "output_type": "execute_result"
    }
   ],
   "source": [
    "#We can just see an example for transition probability say for verb followed by a adverb\n",
    "t2_given_t1('ADV','VERB')"
   ]
  },
  {
   "cell_type": "code",
   "execution_count": 23,
   "metadata": {},
   "outputs": [
    {
     "data": {
      "text/plain": [
       "(839, 12910)"
      ]
     },
     "execution_count": 23,
     "metadata": {},
     "output_type": "execute_result"
    }
   ],
   "source": [
    "#We can just see an example for transition probability say for verb followed by an adjective\n",
    "t2_given_t1('ADJ','VERB')"
   ]
  },
  {
   "cell_type": "markdown",
   "metadata": {},
   "source": [
    "#### Creation of a transition probability matrix"
   ]
  },
  {
   "cell_type": "code",
   "execution_count": 24,
   "metadata": {},
   "outputs": [],
   "source": [
    "# creating t x t transition matrix of tags\n",
    "# each column is t2, each row is t1\n",
    "# thus M(i, j) represents P(tj given ti)\n",
    "tags_matrix = np.zeros((len(T), len(T)), dtype='float32')\n",
    "for i, t1 in enumerate(list(T)):\n",
    "    for j, t2 in enumerate(list(T)): \n",
    "        tags_matrix[i, j] = t2_given_t1(t2, t1)[0]/t2_given_t1(t2, t1)[1]"
   ]
  },
  {
   "cell_type": "code",
   "execution_count": 25,
   "metadata": {},
   "outputs": [],
   "source": [
    "# convert the matrix to a df for better readability\n",
    "tags_df = pd.DataFrame(tags_matrix, columns = list(T), index=list(T))"
   ]
  },
  {
   "cell_type": "code",
   "execution_count": 26,
   "metadata": {},
   "outputs": [
    {
     "data": {
      "text/html": [
       "<div>\n",
       "<style scoped>\n",
       "    .dataframe tbody tr th:only-of-type {\n",
       "        vertical-align: middle;\n",
       "    }\n",
       "\n",
       "    .dataframe tbody tr th {\n",
       "        vertical-align: top;\n",
       "    }\n",
       "\n",
       "    .dataframe thead th {\n",
       "        text-align: right;\n",
       "    }\n",
       "</style>\n",
       "<table border=\"1\" class=\"dataframe\">\n",
       "  <thead>\n",
       "    <tr style=\"text-align: right;\">\n",
       "      <th></th>\n",
       "      <th>.</th>\n",
       "      <th>X</th>\n",
       "      <th>VERB</th>\n",
       "      <th>ADV</th>\n",
       "      <th>CONJ</th>\n",
       "      <th>NOUN</th>\n",
       "      <th>PRON</th>\n",
       "      <th>NUM</th>\n",
       "      <th>ADJ</th>\n",
       "      <th>DET</th>\n",
       "      <th>PRT</th>\n",
       "      <th>ADP</th>\n",
       "    </tr>\n",
       "  </thead>\n",
       "  <tbody>\n",
       "    <tr>\n",
       "      <th>.</th>\n",
       "      <td>0.093320</td>\n",
       "      <td>0.026971</td>\n",
       "      <td>0.089095</td>\n",
       "      <td>0.052324</td>\n",
       "      <td>0.057538</td>\n",
       "      <td>0.222242</td>\n",
       "      <td>0.066349</td>\n",
       "      <td>0.081003</td>\n",
       "      <td>0.043963</td>\n",
       "      <td>0.173335</td>\n",
       "      <td>0.002427</td>\n",
       "      <td>0.091342</td>\n",
       "    </tr>\n",
       "    <tr>\n",
       "      <th>X</th>\n",
       "      <td>0.163590</td>\n",
       "      <td>0.076384</td>\n",
       "      <td>0.203851</td>\n",
       "      <td>0.024984</td>\n",
       "      <td>0.010662</td>\n",
       "      <td>0.062381</td>\n",
       "      <td>0.055538</td>\n",
       "      <td>0.002864</td>\n",
       "      <td>0.017187</td>\n",
       "      <td>0.054742</td>\n",
       "      <td>0.185232</td>\n",
       "      <td>0.142584</td>\n",
       "    </tr>\n",
       "    <tr>\n",
       "      <th>VERB</th>\n",
       "      <td>0.034934</td>\n",
       "      <td>0.217506</td>\n",
       "      <td>0.169249</td>\n",
       "      <td>0.081952</td>\n",
       "      <td>0.005577</td>\n",
       "      <td>0.110070</td>\n",
       "      <td>0.035786</td>\n",
       "      <td>0.022851</td>\n",
       "      <td>0.064988</td>\n",
       "      <td>0.134392</td>\n",
       "      <td>0.030674</td>\n",
       "      <td>0.092022</td>\n",
       "    </tr>\n",
       "    <tr>\n",
       "      <th>ADV</th>\n",
       "      <td>0.137131</td>\n",
       "      <td>0.023186</td>\n",
       "      <td>0.343491</td>\n",
       "      <td>0.080490</td>\n",
       "      <td>0.006956</td>\n",
       "      <td>0.031467</td>\n",
       "      <td>0.014906</td>\n",
       "      <td>0.030474</td>\n",
       "      <td>0.129182</td>\n",
       "      <td>0.069891</td>\n",
       "      <td>0.014243</td>\n",
       "      <td>0.118582</td>\n",
       "    </tr>\n",
       "    <tr>\n",
       "      <th>CONJ</th>\n",
       "      <td>0.034868</td>\n",
       "      <td>0.008833</td>\n",
       "      <td>0.156671</td>\n",
       "      <td>0.055323</td>\n",
       "      <td>0.000465</td>\n",
       "      <td>0.349140</td>\n",
       "      <td>0.058113</td>\n",
       "      <td>0.039981</td>\n",
       "      <td>0.118085</td>\n",
       "      <td>0.121339</td>\n",
       "      <td>0.004649</td>\n",
       "      <td>0.052534</td>\n",
       "    </tr>\n",
       "    <tr>\n",
       "      <th>NOUN</th>\n",
       "      <td>0.240604</td>\n",
       "      <td>0.029175</td>\n",
       "      <td>0.147667</td>\n",
       "      <td>0.017074</td>\n",
       "      <td>0.042666</td>\n",
       "      <td>0.263564</td>\n",
       "      <td>0.004607</td>\n",
       "      <td>0.009542</td>\n",
       "      <td>0.012248</td>\n",
       "      <td>0.012942</td>\n",
       "      <td>0.043397</td>\n",
       "      <td>0.176514</td>\n",
       "    </tr>\n",
       "    <tr>\n",
       "      <th>PRON</th>\n",
       "      <td>0.040965</td>\n",
       "      <td>0.089969</td>\n",
       "      <td>0.485452</td>\n",
       "      <td>0.034074</td>\n",
       "      <td>0.005360</td>\n",
       "      <td>0.210949</td>\n",
       "      <td>0.007657</td>\n",
       "      <td>0.006508</td>\n",
       "      <td>0.073124</td>\n",
       "      <td>0.009954</td>\n",
       "      <td>0.013017</td>\n",
       "      <td>0.022971</td>\n",
       "    </tr>\n",
       "    <tr>\n",
       "      <th>NUM</th>\n",
       "      <td>0.117332</td>\n",
       "      <td>0.210542</td>\n",
       "      <td>0.018761</td>\n",
       "      <td>0.002978</td>\n",
       "      <td>0.013699</td>\n",
       "      <td>0.350208</td>\n",
       "      <td>0.001489</td>\n",
       "      <td>0.184932</td>\n",
       "      <td>0.034247</td>\n",
       "      <td>0.003276</td>\n",
       "      <td>0.026504</td>\n",
       "      <td>0.036033</td>\n",
       "    </tr>\n",
       "    <tr>\n",
       "      <th>ADJ</th>\n",
       "      <td>0.063931</td>\n",
       "      <td>0.021091</td>\n",
       "      <td>0.011699</td>\n",
       "      <td>0.004778</td>\n",
       "      <td>0.016971</td>\n",
       "      <td>0.699621</td>\n",
       "      <td>0.000330</td>\n",
       "      <td>0.021256</td>\n",
       "      <td>0.066403</td>\n",
       "      <td>0.004943</td>\n",
       "      <td>0.010710</td>\n",
       "      <td>0.078267</td>\n",
       "    </tr>\n",
       "    <tr>\n",
       "      <th>DET</th>\n",
       "      <td>0.017993</td>\n",
       "      <td>0.045405</td>\n",
       "      <td>0.039850</td>\n",
       "      <td>0.012438</td>\n",
       "      <td>0.000483</td>\n",
       "      <td>0.638087</td>\n",
       "      <td>0.003744</td>\n",
       "      <td>0.022220</td>\n",
       "      <td>0.204323</td>\n",
       "      <td>0.005676</td>\n",
       "      <td>0.000242</td>\n",
       "      <td>0.009540</td>\n",
       "    </tr>\n",
       "    <tr>\n",
       "      <th>PRT</th>\n",
       "      <td>0.043822</td>\n",
       "      <td>0.013509</td>\n",
       "      <td>0.405272</td>\n",
       "      <td>0.010214</td>\n",
       "      <td>0.002306</td>\n",
       "      <td>0.247776</td>\n",
       "      <td>0.017792</td>\n",
       "      <td>0.056672</td>\n",
       "      <td>0.083031</td>\n",
       "      <td>0.097858</td>\n",
       "      <td>0.001647</td>\n",
       "      <td>0.020099</td>\n",
       "    </tr>\n",
       "    <tr>\n",
       "      <th>ADP</th>\n",
       "      <td>0.039025</td>\n",
       "      <td>0.034427</td>\n",
       "      <td>0.008340</td>\n",
       "      <td>0.014006</td>\n",
       "      <td>0.000962</td>\n",
       "      <td>0.320967</td>\n",
       "      <td>0.070031</td>\n",
       "      <td>0.062226</td>\n",
       "      <td>0.107024</td>\n",
       "      <td>0.324709</td>\n",
       "      <td>0.001390</td>\n",
       "      <td>0.016893</td>\n",
       "    </tr>\n",
       "  </tbody>\n",
       "</table>\n",
       "</div>"
      ],
      "text/plain": [
       "             .         X      VERB       ADV      CONJ      NOUN      PRON  \\\n",
       ".     0.093320  0.026971  0.089095  0.052324  0.057538  0.222242  0.066349   \n",
       "X     0.163590  0.076384  0.203851  0.024984  0.010662  0.062381  0.055538   \n",
       "VERB  0.034934  0.217506  0.169249  0.081952  0.005577  0.110070  0.035786   \n",
       "ADV   0.137131  0.023186  0.343491  0.080490  0.006956  0.031467  0.014906   \n",
       "CONJ  0.034868  0.008833  0.156671  0.055323  0.000465  0.349140  0.058113   \n",
       "NOUN  0.240604  0.029175  0.147667  0.017074  0.042666  0.263564  0.004607   \n",
       "PRON  0.040965  0.089969  0.485452  0.034074  0.005360  0.210949  0.007657   \n",
       "NUM   0.117332  0.210542  0.018761  0.002978  0.013699  0.350208  0.001489   \n",
       "ADJ   0.063931  0.021091  0.011699  0.004778  0.016971  0.699621  0.000330   \n",
       "DET   0.017993  0.045405  0.039850  0.012438  0.000483  0.638087  0.003744   \n",
       "PRT   0.043822  0.013509  0.405272  0.010214  0.002306  0.247776  0.017792   \n",
       "ADP   0.039025  0.034427  0.008340  0.014006  0.000962  0.320967  0.070031   \n",
       "\n",
       "           NUM       ADJ       DET       PRT       ADP  \n",
       ".     0.081003  0.043963  0.173335  0.002427  0.091342  \n",
       "X     0.002864  0.017187  0.054742  0.185232  0.142584  \n",
       "VERB  0.022851  0.064988  0.134392  0.030674  0.092022  \n",
       "ADV   0.030474  0.129182  0.069891  0.014243  0.118582  \n",
       "CONJ  0.039981  0.118085  0.121339  0.004649  0.052534  \n",
       "NOUN  0.009542  0.012248  0.012942  0.043397  0.176514  \n",
       "PRON  0.006508  0.073124  0.009954  0.013017  0.022971  \n",
       "NUM   0.184932  0.034247  0.003276  0.026504  0.036033  \n",
       "ADJ   0.021256  0.066403  0.004943  0.010710  0.078267  \n",
       "DET   0.022220  0.204323  0.005676  0.000242  0.009540  \n",
       "PRT   0.056672  0.083031  0.097858  0.001647  0.020099  \n",
       "ADP   0.062226  0.107024  0.324709  0.001390  0.016893  "
      ]
     },
     "execution_count": 26,
     "metadata": {},
     "output_type": "execute_result"
    }
   ],
   "source": [
    "#tags_df is the dataframe with trainsition probabilities\n",
    "tags_df"
   ]
  },
  {
   "cell_type": "markdown",
   "metadata": {},
   "source": [
    "We can now go ahead and plot a heatmap for the same and find out if any patterns are present."
   ]
  },
  {
   "cell_type": "code",
   "execution_count": 27,
   "metadata": {},
   "outputs": [
    {
     "data": {
      "image/png": "[encoded data removed]",
      "text/plain": [
       "<Figure size 720x360 with 2 Axes>"
      ]
     },
     "metadata": {
      "needs_background": "light"
     },
     "output_type": "display_data"
    }
   ],
   "source": [
    "# heatmap of tags matrix\n",
    "# T(i, j) means P(tag j given tag i)\n",
    "plt.figure(figsize=(10,5))\n",
    "sns.heatmap(tags_df)\n",
    "plt.show()"
   ]
  },
  {
   "cell_type": "markdown",
   "metadata": {},
   "source": [
    "We can see that there is a very high correlation between Adjective and a Noun happening together and also for the pair of Determinant and a Noun."
   ]
  },
  {
   "cell_type": "markdown",
   "metadata": {},
   "source": [
    "### Build the vanilla Viterbi based POS tagger"
   ]
  },
  {
   "cell_type": "markdown",
   "metadata": {},
   "source": [
    "With the transition probability matrix in hand and Emission probability function we can go ahead and implement Viterbi Heuristic with the below function."
   ]
  },
  {
   "cell_type": "code",
   "execution_count": 28,
   "metadata": {},
   "outputs": [],
   "source": [
    "# Viterbi Heuristic\n",
    "def Viterbi(words, train_bag = tagged_words_from_train):\n",
    "    state = []\n",
    "    T = list(set([pair[1] for pair in train_bag]))\n",
    "    for key, word in enumerate(words):\n",
    "        #initialise list of probability column for a given observation\n",
    "        p = [] \n",
    "        for tag in T:\n",
    "            if key == 0:\n",
    "                transition_p = tags_df.loc['.', tag]\n",
    "            else:\n",
    "                transition_p = tags_df.loc[state[-1], tag]\n",
    "            # compute emission and state probabilities\n",
    "            emission_p = word_given_tag(words[key], tag)[0]/word_given_tag(words[key], tag)[1]\n",
    "            state_probability = emission_p * transition_p    \n",
    "            p.append(state_probability)\n",
    "        pmax = max(p)\n",
    "        # getting state for which probability is maximum\n",
    "        state_max = T[p.index(pmax)] \n",
    "        state.append(state_max)\n",
    "    return list(zip(words, state))"
   ]
  },
  {
   "cell_type": "markdown",
   "metadata": {},
   "source": [
    "### Solve the problem of unknown words"
   ]
  },
  {
   "cell_type": "markdown",
   "metadata": {},
   "source": [
    "#### METHOD 1 -> Considering Transition Probabilities alone"
   ]
  },
  {
   "cell_type": "markdown",
   "metadata": {},
   "source": [
    "We know that,with the vanilla Viterbi model, we are calculating the state probability with the emission probability and transition probability together. But the issue here is that, if an unknown word is come across, the emission probability would be zero, since the word is not present in the training corpus. Hence for POS tagging, a random tag is then assigned, hence reducing the accuracy. <br>\n",
    "Hence what we can do as a work around for this issue is that, for all the unknown words we can consider only the transition probability hence bringing in more accuracy to the Vanilla Viterbi function. <br>\n",
    "The same has been implemented as with the below function where we are modified the function to have a check whether the word is present in our vocab, if then only going ahead with the emission-transtion together pair."
   ]
  },
  {
   "cell_type": "code",
   "execution_count": 29,
   "metadata": {},
   "outputs": [],
   "source": [
    "# Modified Viterbi Heuristic\n",
    "def Viterbi_modified1(words, train_bag = tagged_words_from_train):\n",
    "    state = []\n",
    "    T = list(set([pair[1] for pair in train_bag]))\n",
    "    vocab = list(set([pair[0] for pair in train_bag]))\n",
    "    for key, word in enumerate(words):\n",
    "        #initialise list of probability column for a given observation\n",
    "        p = [] \n",
    "        for tag in T:\n",
    "            if key == 0:\n",
    "                transition_p = tags_df.loc['.', tag]\n",
    "            else:\n",
    "                transition_p = tags_df.loc[state[-1], tag]\n",
    "            #Compute emission and state probabilities\n",
    "            #Here we are modifying the function such that, the emission probability is calculated only if the given word is present\n",
    "            #in the tree bank test dataset.If not present,the state probability is taken as transition probability alone,since we\n",
    "            #know the emission probabiliy will be zero for unknown words.\n",
    "            if words[key] in vocab:\n",
    "                emission_p = word_given_tag(words[key], tag)[0]/word_given_tag(words[key], tag)[1]\n",
    "                state_probability = emission_p * transition_p   \n",
    "            else:\n",
    "                state_probability = transition_p\n",
    "            p.append(state_probability)\n",
    "        pmax = max(p)\n",
    "        # getting state for which probability is maximum\n",
    "        state_max = T[p.index(pmax)] \n",
    "        state.append(state_max)\n",
    "    return list(zip(words, state))"
   ]
  },
  {
   "cell_type": "markdown",
   "metadata": {},
   "source": [
    "#### Evaluating tagging accuracy"
   ]
  },
  {
   "cell_type": "markdown",
   "metadata": {},
   "source": [
    "Since our validation set is 196 sentences long, running on entire dataset is time consuming, Hence we can measure the accuracy on a random set pulled out from this validation dataset."
   ]
  },
  {
   "cell_type": "code",
   "execution_count": 30,
   "metadata": {},
   "outputs": [
    {
     "name": "stdout",
     "output_type": "stream",
     "text": [
      "[[('The', 'DET'), ('Contra', 'NOUN'), ('military', 'ADJ'), ('command', 'NOUN'), (',', '.'), ('in', 'ADP'), ('a', 'DET'), ('statement', 'NOUN'), ('from', 'ADP'), ('Honduras', 'NOUN'), (',', '.'), ('said', 'VERB'), ('0', 'X'), ('Sandinista', 'NOUN'), ('troops', 'NOUN'), ('had', 'VERB'), ('launched', 'VERB'), ('a', 'DET'), ('major', 'ADJ'), ('offensive', 'NOUN'), ('against', 'ADP'), ('the', 'DET'), ('rebel', 'NOUN'), ('forces', 'NOUN'), ('.', '.')], [('*-1', 'X'), ('Bucking', 'VERB'), ('the', 'DET'), ('market', 'NOUN'), ('trend', 'NOUN'), (',', '.'), ('an', 'DET'), ('issue', 'NOUN'), ('of', 'ADP'), ('$', '.'), ('130', 'NUM'), ('million', 'NUM'), ('*U*', 'X'), ('general', 'ADJ'), ('obligation', 'NOUN'), ('distributable', 'ADJ'), ('state', 'NOUN'), ('aid', 'NOUN'), ('bonds', 'NOUN'), ('from', 'ADP'), ('Detroit', 'NOUN'), (',', '.'), ('Mich.', 'NOUN'), (',', '.'), ('apparently', 'ADV'), ('drew', 'VERB'), ('solid', 'ADJ'), ('investor', 'NOUN'), ('interest', 'NOUN'), ('.', '.')], [('Ralston', 'NOUN'), ('said', 'VERB'), ('0', 'X'), ('its', 'PRON'), ('Eveready', 'NOUN'), ('battery', 'NOUN'), ('unit', 'NOUN'), ('was', 'VERB'), ('hurt', 'VERB'), ('*-1', 'X'), ('by', 'ADP'), ('continuing', 'VERB'), ('economic', 'ADJ'), ('problems', 'NOUN'), ('in', 'ADP'), ('South', 'NOUN'), ('America', 'NOUN'), ('.', '.')], [('I', 'PRON'), ('feel', 'VERB'), ('pretty', 'ADV'), ('good', 'ADJ'), ('about', 'ADP'), ('it', 'PRON'), ('.', '.')], [('Mr.', 'NOUN'), ('Felten', 'NOUN'), ('said', 'VERB'), (',', '.'), ('``', '.'), ('We', 'PRON'), ('got', 'VERB'), ('what', 'PRON'), ('*T*-252', 'X'), ('amounted', 'VERB'), ('to', 'PRT'), ('a', 'DET'), ('parking', 'NOUN'), ('ticket', 'NOUN'), (',', '.'), ('and', 'CONJ'), ('by', 'ADP'), ('*-1', 'X'), ('complaining', 'VERB'), ('about', 'ADP'), ('it', 'PRON'), (',', '.'), ('we', 'PRON'), ('ended', 'VERB'), ('up', 'PRT'), ('with', 'ADP'), ('a', 'DET'), ('sizable', 'ADJ'), ('fine', 'NOUN'), ('and', 'CONJ'), ('suspension', 'NOUN'), ('.', '.'), (\"''\", '.')], [('U.S.', 'NOUN'), ('News', 'NOUN'), (\"'\", 'PRT'), ('circulation', 'NOUN'), ('in', 'ADP'), ('the', 'DET'), ('same', 'ADJ'), ('time', 'NOUN'), ('was', 'VERB'), ('2,303,328', 'NUM'), (',', '.'), ('down', 'ADV'), ('2.6', 'NUM'), ('%', 'NOUN'), ('.', '.')], [('But', 'CONJ'), ('a', 'DET'), ('takeover', 'NOUN'), ('battle', 'NOUN'), ('opens', 'VERB'), ('up', 'PRT'), ('the', 'DET'), ('possibility', 'NOUN'), ('of', 'ADP'), ('a', 'DET'), ('bidding', 'NOUN'), ('war', 'NOUN'), (',', '.'), ('with', 'ADP'), ('all', 'DET'), ('0', 'X'), ('that', 'DET'), ('implies', 'VERB'), ('*T*-1', 'X'), ('.', '.')], [('``', '.'), ('Each', 'DET'), ('day', 'NOUN'), ('that', 'ADP'), ('Congress', 'NOUN'), ('fails', 'VERB'), ('*-1', 'X'), ('to', 'PRT'), ('act', 'VERB'), ('*T*-2', 'X'), ('...', '.'), ('will', 'VERB'), ('cause', 'VERB'), ('additional', 'ADJ'), ('disruption', 'NOUN'), ('in', 'ADP'), ('our', 'PRON'), ('borrowing', 'NOUN'), ('schedule', 'NOUN'), (',', '.'), ('*', 'X'), ('possibly', 'ADV'), ('resulting', 'VERB'), ('in', 'ADP'), ('higher', 'ADJ'), ('interest', 'NOUN'), ('costs', 'NOUN'), ('to', 'PRT'), ('the', 'DET'), ('taxpayer', 'NOUN'), (',', '.'), (\"''\", '.'), ('Treasury', 'NOUN'), ('Secretary', 'NOUN'), ('Nicholas', 'NOUN'), ('Brady', 'NOUN'), ('said', 'VERB'), ('*T*-3', 'X'), ('in', 'ADP'), ('a', 'DET'), ('speech', 'NOUN'), ('prepared', 'VERB'), ('*', 'X'), ('for', 'ADP'), ('delivery', 'NOUN'), ('last', 'ADJ'), ('night', 'NOUN'), ('to', 'PRT'), ('a', 'DET'), ('group', 'NOUN'), ('of', 'ADP'), ('bankers', 'NOUN'), ('.', '.')], [('And', 'CONJ'), ('an', 'DET'), ('FT-SE', 'NOUN'), ('futures', 'NOUN'), ('contract', 'NOUN'), ('is', 'VERB'), ('traded', 'VERB'), ('*-1', 'X'), ('on', 'ADP'), ('the', 'DET'), ('London', 'NOUN'), ('International', 'NOUN'), ('Financial', 'NOUN'), ('Futures', 'NOUN'), ('Exchange', 'NOUN'), ('.', '.')], [('The', 'DET'), ('offer', 'NOUN'), ('is', 'VERB'), ('being', 'VERB'), ('launched', 'VERB'), ('*-45', 'X'), ('pursuant', 'ADJ'), ('to', 'PRT'), ('a', 'DET'), ('previously', 'ADV'), ('announced', 'VERB'), ('agreement', 'NOUN'), ('between', 'ADP'), ('the', 'DET'), ('companies', 'NOUN'), ('.', '.')]]\n"
     ]
    }
   ],
   "source": [
    "# Running on entire test dataset would take more than 3-4hrs. \n",
    "# Let's test our Viterbi algorithm on a few sample sentences of test dataset\n",
    "random.seed(1234)\n",
    "# choose random 5 sents\n",
    "rndom = [random.randint(1,len(validation_set)) for x in range(10)]\n",
    "# list of sents\n",
    "test_run = [validation_set[i] for i in rndom]\n",
    "# list of tagged words\n",
    "test_run_base = [tup for sent in test_run for tup in sent]\n",
    "# list of untagged words\n",
    "test_tagged_words = [tup[0] for sent in test_run for tup in sent]\n",
    "print(test_run)"
   ]
  },
  {
   "cell_type": "code",
   "execution_count": 31,
   "metadata": {},
   "outputs": [
    {
     "name": "stdout",
     "output_type": "stream",
     "text": [
      "['The', 'Contra', 'military', 'command', ',', 'in', 'a', 'statement', 'from', 'Honduras', ',', 'said', '0', 'Sandinista', 'troops', 'had', 'launched', 'a', 'major', 'offensive', 'against', 'the', 'rebel', 'forces', '.', '*-1', 'Bucking', 'the', 'market', 'trend', ',', 'an', 'issue', 'of', '$', '130', 'million', '*U*', 'general', 'obligation', 'distributable', 'state', 'aid', 'bonds', 'from', 'Detroit', ',', 'Mich.', ',', 'apparently', 'drew', 'solid', 'investor', 'interest', '.', 'Ralston', 'said', '0', 'its', 'Eveready', 'battery', 'unit', 'was', 'hurt', '*-1', 'by', 'continuing', 'economic', 'problems', 'in', 'South', 'America', '.', 'I', 'feel', 'pretty', 'good', 'about', 'it', '.', 'Mr.', 'Felten', 'said', ',', '``', 'We', 'got', 'what', '*T*-252', 'amounted', 'to', 'a', 'parking', 'ticket', ',', 'and', 'by', '*-1', 'complaining', 'about', 'it', ',', 'we', 'ended', 'up', 'with', 'a', 'sizable', 'fine', 'and', 'suspension', '.', \"''\", 'U.S.', 'News', \"'\", 'circulation', 'in', 'the', 'same', 'time', 'was', '2,303,328', ',', 'down', '2.6', '%', '.', 'But', 'a', 'takeover', 'battle', 'opens', 'up', 'the', 'possibility', 'of', 'a', 'bidding', 'war', ',', 'with', 'all', '0', 'that', 'implies', '*T*-1', '.', '``', 'Each', 'day', 'that', 'Congress', 'fails', '*-1', 'to', 'act', '*T*-2', '...', 'will', 'cause', 'additional', 'disruption', 'in', 'our', 'borrowing', 'schedule', ',', '*', 'possibly', 'resulting', 'in', 'higher', 'interest', 'costs', 'to', 'the', 'taxpayer', ',', \"''\", 'Treasury', 'Secretary', 'Nicholas', 'Brady', 'said', '*T*-3', 'in', 'a', 'speech', 'prepared', '*', 'for', 'delivery', 'last', 'night', 'to', 'a', 'group', 'of', 'bankers', '.', 'And', 'an', 'FT-SE', 'futures', 'contract', 'is', 'traded', '*-1', 'on', 'the', 'London', 'International', 'Financial', 'Futures', 'Exchange', '.', 'The', 'offer', 'is', 'being', 'launched', '*-45', 'pursuant', 'to', 'a', 'previously', 'announced', 'agreement', 'between', 'the', 'companies', '.']\n"
     ]
    }
   ],
   "source": [
    "print(test_tagged_words)"
   ]
  },
  {
   "cell_type": "markdown",
   "metadata": {},
   "source": [
    "`test_tagged_words` is the list of words which we are passing into the modified Viterbi as well as the Vanilla Vitebi to check for the accuracy improvement and performance."
   ]
  },
  {
   "cell_type": "code",
   "execution_count": 32,
   "metadata": {},
   "outputs": [],
   "source": [
    "# tagging the test sentences\n",
    "start = time.time()\n",
    "tagged_seq_Vit_mod = Viterbi_modified1(test_tagged_words)\n",
    "end = time.time()\n",
    "difference = end-start"
   ]
  },
  {
   "cell_type": "code",
   "execution_count": 33,
   "metadata": {},
   "outputs": [
    {
     "name": "stdout",
     "output_type": "stream",
     "text": [
      "Time taken in seconds:  70.87277460098267\n",
      "[('The', 'DET'), ('Contra', 'NOUN'), ('military', 'ADJ'), ('command', 'VERB'), (',', '.'), ('in', 'ADP'), ('a', 'DET'), ('statement', 'NOUN'), ('from', 'ADP'), ('Honduras', 'DET'), (',', '.'), ('said', 'VERB'), ('0', 'X'), ('Sandinista', 'VERB'), ('troops', 'NOUN'), ('had', 'VERB'), ('launched', 'VERB'), ('a', 'DET'), ('major', 'ADJ'), ('offensive', 'NOUN'), ('against', 'ADP'), ('the', 'DET'), ('rebel', 'NOUN'), ('forces', 'NOUN'), ('.', '.'), ('*-1', 'X'), ('Bucking', 'VERB'), ('the', 'DET'), ('market', 'NOUN'), ('trend', 'NOUN'), (',', '.'), ('an', 'DET'), ('issue', 'NOUN'), ('of', 'ADP'), ('$', '.'), ('130', 'NUM'), ('million', 'NUM'), ('*U*', 'X'), ('general', 'ADJ'), ('obligation', 'NOUN'), ('distributable', 'ADJ'), ('state', 'NOUN'), ('aid', 'NOUN'), ('bonds', 'NOUN'), ('from', 'ADP'), ('Detroit', 'NOUN'), (',', '.'), ('Mich.', 'NOUN'), (',', '.'), ('apparently', 'ADV'), ('drew', 'VERB'), ('solid', 'ADJ'), ('investor', 'NOUN'), ('interest', 'NOUN'), ('.', '.'), ('Ralston', 'NOUN'), ('said', 'VERB'), ('0', 'X'), ('its', 'PRON'), ('Eveready', 'VERB'), ('battery', 'NOUN'), ('unit', 'NOUN'), ('was', 'VERB'), ('hurt', 'VERB'), ('*-1', 'X'), ('by', 'ADP'), ('continuing', 'VERB'), ('economic', 'ADJ'), ('problems', 'NOUN'), ('in', 'ADP'), ('South', 'NOUN'), ('America', 'NOUN'), ('.', '.'), ('I', 'PRON'), ('feel', 'VERB'), ('pretty', 'ADV'), ('good', 'ADJ'), ('about', 'ADP'), ('it', 'PRON'), ('.', '.'), ('Mr.', 'NOUN'), ('Felten', 'NOUN'), ('said', 'VERB'), (',', '.'), ('``', '.'), ('We', 'PRON'), ('got', 'VERB'), ('what', 'PRON'), ('*T*-252', 'VERB'), ('amounted', 'VERB'), ('to', 'PRT'), ('a', 'DET'), ('parking', 'NOUN'), ('ticket', 'NOUN'), (',', '.'), ('and', 'CONJ'), ('by', 'ADP'), ('*-1', 'X'), ('complaining', 'VERB'), ('about', 'ADP'), ('it', 'PRON'), (',', '.'), ('we', 'PRON'), ('ended', 'VERB'), ('up', 'ADV'), ('with', 'ADP'), ('a', 'DET'), ('sizable', 'ADJ'), ('fine', 'NOUN'), ('and', 'CONJ'), ('suspension', 'NOUN'), ('.', '.'), (\"''\", '.'), ('U.S.', 'NOUN'), ('News', 'NOUN'), (\"'\", 'PRT'), ('circulation', 'NOUN'), ('in', 'ADP'), ('the', 'DET'), ('same', 'ADJ'), ('time', 'NOUN'), ('was', 'VERB'), ('2,303,328', 'X'), (',', '.'), ('down', 'ADV'), ('2.6', 'VERB'), ('%', 'NOUN'), ('.', '.'), ('But', 'CONJ'), ('a', 'DET'), ('takeover', 'NOUN'), ('battle', 'NOUN'), ('opens', 'NOUN'), ('up', 'PRT'), ('the', 'DET'), ('possibility', 'NOUN'), ('of', 'ADP'), ('a', 'DET'), ('bidding', 'NOUN'), ('war', 'NOUN'), (',', '.'), ('with', 'ADP'), ('all', 'DET'), ('0', 'X'), ('that', 'ADP'), ('implies', 'VERB'), ('*T*-1', 'X'), ('.', '.'), ('``', '.'), ('Each', 'DET'), ('day', 'NOUN'), ('that', 'ADP'), ('Congress', 'NOUN'), ('fails', 'VERB'), ('*-1', 'X'), ('to', 'PRT'), ('act', 'VERB'), ('*T*-2', 'X'), ('...', '.'), ('will', 'VERB'), ('cause', 'VERB'), ('additional', 'ADJ'), ('disruption', 'NOUN'), ('in', 'ADP'), ('our', 'PRON'), ('borrowing', 'VERB'), ('schedule', 'X'), (',', '.'), ('*', 'X'), ('possibly', 'ADV'), ('resulting', 'VERB'), ('in', 'ADP'), ('higher', 'ADJ'), ('interest', 'NOUN'), ('costs', 'NOUN'), ('to', 'PRT'), ('the', 'DET'), ('taxpayer', 'NOUN'), (',', '.'), (\"''\", '.'), ('Treasury', 'NOUN'), ('Secretary', 'NOUN'), ('Nicholas', 'NOUN'), ('Brady', 'NOUN'), ('said', 'VERB'), ('*T*-3', 'X'), ('in', 'ADP'), ('a', 'DET'), ('speech', 'NOUN'), ('prepared', 'VERB'), ('*', 'X'), ('for', 'ADP'), ('delivery', 'NOUN'), ('last', 'ADJ'), ('night', 'NOUN'), ('to', 'PRT'), ('a', 'DET'), ('group', 'NOUN'), ('of', 'ADP'), ('bankers', 'NOUN'), ('.', '.'), ('And', 'CONJ'), ('an', 'DET'), ('FT-SE', 'NOUN'), ('futures', 'NOUN'), ('contract', 'NOUN'), ('is', 'VERB'), ('traded', 'VERB'), ('*-1', 'X'), ('on', 'ADP'), ('the', 'DET'), ('London', 'NOUN'), ('International', 'NOUN'), ('Financial', 'NOUN'), ('Futures', 'NOUN'), ('Exchange', 'NOUN'), ('.', '.'), ('The', 'DET'), ('offer', 'NOUN'), ('is', 'VERB'), ('being', 'VERB'), ('launched', 'VERB'), ('*-45', 'X'), ('pursuant', 'ADJ'), ('to', 'PRT'), ('a', 'DET'), ('previously', 'ADV'), ('announced', 'VERB'), ('agreement', 'NOUN'), ('between', 'ADP'), ('the', 'DET'), ('companies', 'NOUN'), ('.', '.')]\n"
     ]
    }
   ],
   "source": [
    "print(\"Time taken in seconds: \", difference)\n",
    "print(tagged_seq_Vit_mod)"
   ]
  },
  {
   "cell_type": "code",
   "execution_count": 34,
   "metadata": {},
   "outputs": [],
   "source": [
    "# accuracy\n",
    "check_Vit_mod = [i for i, j in zip(tagged_seq_Vit_mod, test_run_base) if i == j] "
   ]
  },
  {
   "cell_type": "code",
   "execution_count": 35,
   "metadata": {},
   "outputs": [],
   "source": [
    "accuracy_Vit_mod = len(check_Vit_mod)/len(tagged_seq_Vit_mod)"
   ]
  },
  {
   "cell_type": "code",
   "execution_count": 36,
   "metadata": {},
   "outputs": [
    {
     "data": {
      "text/plain": [
       "0.9484978540772532"
      ]
     },
     "execution_count": 36,
     "metadata": {},
     "output_type": "execute_result"
    }
   ],
   "source": [
    "accuracy_Vit_mod"
   ]
  },
  {
   "cell_type": "markdown",
   "metadata": {},
   "source": [
    "<b> Hence we are getting an accuracy of `94.85%` with the modified Viterbi function with the approach of considering only Transition probability. "
   ]
  },
  {
   "cell_type": "code",
   "execution_count": 37,
   "metadata": {},
   "outputs": [],
   "source": [
    "incorrect_tagged_cases_Vit_mod = [[test_run_base[i-1],j] for i, j in enumerate(zip(tagged_seq_Vit_mod, test_run_base)) if j[0]!=j[1]]"
   ]
  },
  {
   "cell_type": "code",
   "execution_count": 38,
   "metadata": {},
   "outputs": [
    {
     "data": {
      "text/plain": [
       "[[('military', 'ADJ'), (('command', 'VERB'), ('command', 'NOUN'))],\n",
       " [('from', 'ADP'), (('Honduras', 'DET'), ('Honduras', 'NOUN'))],\n",
       " [('0', 'X'), (('Sandinista', 'VERB'), ('Sandinista', 'NOUN'))],\n",
       " [('its', 'PRON'), (('Eveready', 'VERB'), ('Eveready', 'NOUN'))],\n",
       " [('what', 'PRON'), (('*T*-252', 'VERB'), ('*T*-252', 'X'))],\n",
       " [('ended', 'VERB'), (('up', 'ADV'), ('up', 'PRT'))],\n",
       " [('was', 'VERB'), (('2,303,328', 'X'), ('2,303,328', 'NUM'))],\n",
       " [('down', 'ADV'), (('2.6', 'VERB'), ('2.6', 'NUM'))],\n",
       " [('battle', 'NOUN'), (('opens', 'NOUN'), ('opens', 'VERB'))],\n",
       " [('0', 'X'), (('that', 'ADP'), ('that', 'DET'))],\n",
       " [('our', 'PRON'), (('borrowing', 'VERB'), ('borrowing', 'NOUN'))],\n",
       " [('borrowing', 'NOUN'), (('schedule', 'X'), ('schedule', 'NOUN'))]]"
      ]
     },
     "execution_count": 38,
     "metadata": {},
     "output_type": "execute_result"
    }
   ],
   "source": [
    "#Below given are the incorrect tagged cases.\n",
    "incorrect_tagged_cases_Vit_mod"
   ]
  },
  {
   "cell_type": "markdown",
   "metadata": {},
   "source": [
    "#### METHOD 2 -> Using a Rule-Based (Regular Expression) Tagger for Unknown words"
   ]
  },
  {
   "cell_type": "markdown",
   "metadata": {},
   "source": [
    "We can define a rule based tagger function where we can define some general patterns and corresponding tags. <br>\n",
    "The patterns we are defining include gerund,past tense,possessive nouns, cardinal numbers etc. <br>\n",
    "if none of the above rules are applicable to a word, we tag a frequent tag NN."
   ]
  },
  {
   "cell_type": "code",
   "execution_count": 39,
   "metadata": {},
   "outputs": [],
   "source": [
    "#We can define a rule based tagger function where we can define some general patterns and corresponding tags.\n",
    "def rule_based_tagger_func(word):\n",
    "    new_list = []\n",
    "    new_list.append(word)\n",
    "    patterns = [\n",
    "    (r'.*ing$', 'VERB'),                # gerund\n",
    "    (r'.*ed$', 'VERB'),                 # past tense\n",
    "    (r'.*es$', 'VERB'),                 # 3rd singular present\n",
    "    (r'.*\\'s$', 'NOUN'),                # possessive nouns\n",
    "    (r'.*s$', 'NOUN'),                  # plural nouns\n",
    "    (r'^-?[0-9]+(.[0-9]+)?$', 'NUM'),   # cardinal numbers\n",
    "    (r'.*', 'NOUN')                     # nouns\n",
    "    ]\n",
    "    regexp_tagger = nltk.RegexpTagger(patterns)\n",
    "    tag = regexp_tagger.tag(new_list)\n",
    "    return tag[0][1]"
   ]
  },
  {
   "cell_type": "code",
   "execution_count": 40,
   "metadata": {},
   "outputs": [],
   "source": [
    "# Modified Viterbi Heuristic\n",
    "def Viterbi_modified2(words, train_bag = tagged_words_from_train):\n",
    "    state = []\n",
    "    T = list(set([pair[1] for pair in train_bag]))\n",
    "    for key, word in enumerate(words):\n",
    "        #initialise list of probability column for a given observation\n",
    "        p = [] \n",
    "        for tag in T:\n",
    "            if key == 0:\n",
    "                transition_p = tags_df.loc['.', tag]\n",
    "            else:\n",
    "                transition_p = tags_df.loc[state[-1], tag]\n",
    "            # compute emission and state probabilities\n",
    "            emission_p = word_given_tag(words[key], tag)[0]/word_given_tag(words[key], tag)[1]\n",
    "            state_probability = emission_p * transition_p   \n",
    "            \n",
    "            p.append(state_probability)\n",
    "        pmax = max(p)\n",
    "        if pmax ==0:\n",
    "            #pmax will be zero for unknown words. Hence for unknown words we are calling the rule_based_tagger_func\n",
    "            state_max = rule_based_tagger_func(words[key])\n",
    "        else:\n",
    "        # getting state for which probability is maximum\n",
    "            state_max = T[p.index(pmax)] \n",
    "        state.append(state_max)\n",
    "    return list(zip(words, state))"
   ]
  },
  {
   "cell_type": "code",
   "execution_count": 41,
   "metadata": {},
   "outputs": [],
   "source": [
    "# tagging the test sentences\n",
    "start = time.time()\n",
    "tagged_seq_Vit_mod2 = Viterbi_modified2(test_tagged_words)\n",
    "end = time.time()\n",
    "difference = end-start"
   ]
  },
  {
   "cell_type": "code",
   "execution_count": 42,
   "metadata": {},
   "outputs": [
    {
     "name": "stdout",
     "output_type": "stream",
     "text": [
      "Time taken in seconds:  76.24870324134827\n",
      "[('The', 'DET'), ('Contra', 'NOUN'), ('military', 'ADJ'), ('command', 'VERB'), (',', '.'), ('in', 'ADP'), ('a', 'DET'), ('statement', 'NOUN'), ('from', 'ADP'), ('Honduras', 'NOUN'), (',', '.'), ('said', 'VERB'), ('0', 'X'), ('Sandinista', 'NOUN'), ('troops', 'NOUN'), ('had', 'VERB'), ('launched', 'VERB'), ('a', 'DET'), ('major', 'ADJ'), ('offensive', 'NOUN'), ('against', 'ADP'), ('the', 'DET'), ('rebel', 'NOUN'), ('forces', 'NOUN'), ('.', '.'), ('*-1', 'X'), ('Bucking', 'VERB'), ('the', 'DET'), ('market', 'NOUN'), ('trend', 'NOUN'), (',', '.'), ('an', 'DET'), ('issue', 'NOUN'), ('of', 'ADP'), ('$', '.'), ('130', 'NUM'), ('million', 'NUM'), ('*U*', 'X'), ('general', 'ADJ'), ('obligation', 'NOUN'), ('distributable', 'ADJ'), ('state', 'NOUN'), ('aid', 'NOUN'), ('bonds', 'NOUN'), ('from', 'ADP'), ('Detroit', 'NOUN'), (',', '.'), ('Mich.', 'NOUN'), (',', '.'), ('apparently', 'ADV'), ('drew', 'NOUN'), ('solid', 'ADJ'), ('investor', 'NOUN'), ('interest', 'NOUN'), ('.', '.'), ('Ralston', 'NOUN'), ('said', 'VERB'), ('0', 'X'), ('its', 'PRON'), ('Eveready', 'NOUN'), ('battery', 'NOUN'), ('unit', 'NOUN'), ('was', 'VERB'), ('hurt', 'VERB'), ('*-1', 'X'), ('by', 'ADP'), ('continuing', 'VERB'), ('economic', 'ADJ'), ('problems', 'NOUN'), ('in', 'ADP'), ('South', 'NOUN'), ('America', 'NOUN'), ('.', '.'), ('I', 'PRON'), ('feel', 'VERB'), ('pretty', 'ADV'), ('good', 'ADJ'), ('about', 'ADP'), ('it', 'PRON'), ('.', '.'), ('Mr.', 'NOUN'), ('Felten', 'NOUN'), ('said', 'VERB'), (',', '.'), ('``', '.'), ('We', 'PRON'), ('got', 'VERB'), ('what', 'PRON'), ('*T*-252', 'NOUN'), ('amounted', 'VERB'), ('to', 'PRT'), ('a', 'DET'), ('parking', 'NOUN'), ('ticket', 'NOUN'), (',', '.'), ('and', 'CONJ'), ('by', 'ADP'), ('*-1', 'X'), ('complaining', 'VERB'), ('about', 'ADP'), ('it', 'PRON'), (',', '.'), ('we', 'PRON'), ('ended', 'VERB'), ('up', 'ADV'), ('with', 'ADP'), ('a', 'DET'), ('sizable', 'ADJ'), ('fine', 'NOUN'), ('and', 'CONJ'), ('suspension', 'NOUN'), ('.', '.'), (\"''\", '.'), ('U.S.', 'NOUN'), ('News', 'NOUN'), (\"'\", 'PRT'), ('circulation', 'NOUN'), ('in', 'ADP'), ('the', 'DET'), ('same', 'ADJ'), ('time', 'NOUN'), ('was', 'VERB'), ('2,303,328', 'NOUN'), (',', '.'), ('down', 'ADV'), ('2.6', 'NUM'), ('%', 'NOUN'), ('.', '.'), ('But', 'CONJ'), ('a', 'DET'), ('takeover', 'NOUN'), ('battle', 'NOUN'), ('opens', 'NOUN'), ('up', 'PRT'), ('the', 'DET'), ('possibility', 'NOUN'), ('of', 'ADP'), ('a', 'DET'), ('bidding', 'NOUN'), ('war', 'NOUN'), (',', '.'), ('with', 'ADP'), ('all', 'DET'), ('0', 'X'), ('that', 'ADP'), ('implies', 'VERB'), ('*T*-1', 'X'), ('.', '.'), ('``', '.'), ('Each', 'DET'), ('day', 'NOUN'), ('that', 'ADP'), ('Congress', 'NOUN'), ('fails', 'VERB'), ('*-1', 'X'), ('to', 'PRT'), ('act', 'VERB'), ('*T*-2', 'X'), ('...', '.'), ('will', 'VERB'), ('cause', 'VERB'), ('additional', 'ADJ'), ('disruption', 'NOUN'), ('in', 'ADP'), ('our', 'PRON'), ('borrowing', 'VERB'), ('schedule', 'NOUN'), (',', '.'), ('*', 'X'), ('possibly', 'ADV'), ('resulting', 'VERB'), ('in', 'ADP'), ('higher', 'ADJ'), ('interest', 'NOUN'), ('costs', 'NOUN'), ('to', 'PRT'), ('the', 'DET'), ('taxpayer', 'NOUN'), (',', '.'), (\"''\", '.'), ('Treasury', 'NOUN'), ('Secretary', 'NOUN'), ('Nicholas', 'NOUN'), ('Brady', 'NOUN'), ('said', 'VERB'), ('*T*-3', 'X'), ('in', 'ADP'), ('a', 'DET'), ('speech', 'NOUN'), ('prepared', 'VERB'), ('*', 'X'), ('for', 'ADP'), ('delivery', 'NOUN'), ('last', 'ADJ'), ('night', 'NOUN'), ('to', 'PRT'), ('a', 'DET'), ('group', 'NOUN'), ('of', 'ADP'), ('bankers', 'NOUN'), ('.', '.'), ('And', 'CONJ'), ('an', 'DET'), ('FT-SE', 'NOUN'), ('futures', 'NOUN'), ('contract', 'NOUN'), ('is', 'VERB'), ('traded', 'VERB'), ('*-1', 'X'), ('on', 'ADP'), ('the', 'DET'), ('London', 'NOUN'), ('International', 'NOUN'), ('Financial', 'NOUN'), ('Futures', 'NOUN'), ('Exchange', 'NOUN'), ('.', '.'), ('The', 'DET'), ('offer', 'NOUN'), ('is', 'VERB'), ('being', 'VERB'), ('launched', 'VERB'), ('*-45', 'X'), ('pursuant', 'ADJ'), ('to', 'PRT'), ('a', 'DET'), ('previously', 'ADV'), ('announced', 'VERB'), ('agreement', 'NOUN'), ('between', 'ADP'), ('the', 'DET'), ('companies', 'NOUN'), ('.', '.')]\n"
     ]
    }
   ],
   "source": [
    "print(\"Time taken in seconds: \", difference)\n",
    "print(tagged_seq_Vit_mod2)"
   ]
  },
  {
   "cell_type": "code",
   "execution_count": 43,
   "metadata": {},
   "outputs": [],
   "source": [
    "# accuracy\n",
    "check_Vit_mod2 = [i for i, j in zip(tagged_seq_Vit_mod2, test_run_base) if i == j] "
   ]
  },
  {
   "cell_type": "code",
   "execution_count": 44,
   "metadata": {},
   "outputs": [],
   "source": [
    "accuracy_Vit_mod2 = len(check_Vit_mod2)/len(tagged_seq_Vit_mod2)"
   ]
  },
  {
   "cell_type": "code",
   "execution_count": 45,
   "metadata": {},
   "outputs": [
    {
     "data": {
      "text/plain": [
       "0.9656652360515021"
      ]
     },
     "execution_count": 45,
     "metadata": {},
     "output_type": "execute_result"
    }
   ],
   "source": [
    "accuracy_Vit_mod2"
   ]
  },
  {
   "cell_type": "markdown",
   "metadata": {},
   "source": [
    "<b> Hence we are getting an accuracy of `96.57%` with the modified Viterbi function with a combination of regular expression tagger."
   ]
  },
  {
   "cell_type": "code",
   "execution_count": 46,
   "metadata": {},
   "outputs": [],
   "source": [
    "incorrect_tagged_cases_Vit_mod2 = [[test_run_base[i-1],j] for i, j in enumerate(zip(tagged_seq_Vit_mod2, test_run_base)) if j[0]!=j[1]]"
   ]
  },
  {
   "cell_type": "code",
   "execution_count": 47,
   "metadata": {},
   "outputs": [
    {
     "data": {
      "text/plain": [
       "[[('military', 'ADJ'), (('command', 'VERB'), ('command', 'NOUN'))],\n",
       " [('apparently', 'ADV'), (('drew', 'NOUN'), ('drew', 'VERB'))],\n",
       " [('what', 'PRON'), (('*T*-252', 'NOUN'), ('*T*-252', 'X'))],\n",
       " [('ended', 'VERB'), (('up', 'ADV'), ('up', 'PRT'))],\n",
       " [('was', 'VERB'), (('2,303,328', 'NOUN'), ('2,303,328', 'NUM'))],\n",
       " [('battle', 'NOUN'), (('opens', 'NOUN'), ('opens', 'VERB'))],\n",
       " [('0', 'X'), (('that', 'ADP'), ('that', 'DET'))],\n",
       " [('our', 'PRON'), (('borrowing', 'VERB'), ('borrowing', 'NOUN'))]]"
      ]
     },
     "execution_count": 47,
     "metadata": {},
     "output_type": "execute_result"
    }
   ],
   "source": [
    "incorrect_tagged_cases_Vit_mod2"
   ]
  },
  {
   "cell_type": "markdown",
   "metadata": {},
   "source": [
    "### Compare the tagging accuracies of the modifications with the vanilla Viterbi algorithm"
   ]
  },
  {
   "cell_type": "code",
   "execution_count": 48,
   "metadata": {},
   "outputs": [],
   "source": [
    "# tagging the test sentences with Vanilla Viterbi function\n",
    "start = time.time()\n",
    "tagged_seq = Viterbi(test_tagged_words)\n",
    "end = time.time()\n",
    "difference = end-start"
   ]
  },
  {
   "cell_type": "code",
   "execution_count": 49,
   "metadata": {},
   "outputs": [
    {
     "name": "stdout",
     "output_type": "stream",
     "text": [
      "Time taken in seconds:  76.07020568847656\n",
      "[('The', 'DET'), ('Contra', '.'), ('military', 'ADJ'), ('command', 'VERB'), (',', '.'), ('in', 'ADP'), ('a', 'DET'), ('statement', 'NOUN'), ('from', 'ADP'), ('Honduras', '.'), (',', '.'), ('said', 'VERB'), ('0', 'X'), ('Sandinista', '.'), ('troops', 'NOUN'), ('had', 'VERB'), ('launched', 'VERB'), ('a', 'DET'), ('major', 'ADJ'), ('offensive', '.'), ('against', 'ADP'), ('the', 'DET'), ('rebel', '.'), ('forces', 'NOUN'), ('.', '.'), ('*-1', 'X'), ('Bucking', '.'), ('the', 'DET'), ('market', 'NOUN'), ('trend', 'NOUN'), (',', '.'), ('an', 'DET'), ('issue', 'NOUN'), ('of', 'ADP'), ('$', '.'), ('130', 'NUM'), ('million', 'NUM'), ('*U*', 'X'), ('general', 'ADJ'), ('obligation', 'NOUN'), ('distributable', 'ADJ'), ('state', 'NOUN'), ('aid', 'NOUN'), ('bonds', 'NOUN'), ('from', 'ADP'), ('Detroit', 'NOUN'), (',', '.'), ('Mich.', 'NOUN'), (',', '.'), ('apparently', 'ADV'), ('drew', '.'), ('solid', 'ADJ'), ('investor', 'NOUN'), ('interest', 'NOUN'), ('.', '.'), ('Ralston', 'NOUN'), ('said', 'VERB'), ('0', 'X'), ('its', 'PRON'), ('Eveready', '.'), ('battery', 'NOUN'), ('unit', 'NOUN'), ('was', 'VERB'), ('hurt', 'VERB'), ('*-1', 'X'), ('by', 'ADP'), ('continuing', 'VERB'), ('economic', 'ADJ'), ('problems', 'NOUN'), ('in', 'ADP'), ('South', 'NOUN'), ('America', 'NOUN'), ('.', '.'), ('I', 'PRON'), ('feel', 'VERB'), ('pretty', 'ADV'), ('good', 'ADJ'), ('about', 'ADP'), ('it', 'PRON'), ('.', '.'), ('Mr.', 'NOUN'), ('Felten', 'NOUN'), ('said', 'VERB'), (',', '.'), ('``', '.'), ('We', 'PRON'), ('got', 'VERB'), ('what', 'PRON'), ('*T*-252', '.'), ('amounted', 'VERB'), ('to', 'PRT'), ('a', 'DET'), ('parking', 'NOUN'), ('ticket', 'NOUN'), (',', '.'), ('and', 'CONJ'), ('by', 'ADP'), ('*-1', 'X'), ('complaining', '.'), ('about', 'ADP'), ('it', 'PRON'), (',', '.'), ('we', 'PRON'), ('ended', 'VERB'), ('up', 'ADV'), ('with', 'ADP'), ('a', 'DET'), ('sizable', 'ADJ'), ('fine', 'NOUN'), ('and', 'CONJ'), ('suspension', 'NOUN'), ('.', '.'), (\"''\", '.'), ('U.S.', 'NOUN'), ('News', 'NOUN'), (\"'\", 'PRT'), ('circulation', 'NOUN'), ('in', 'ADP'), ('the', 'DET'), ('same', 'ADJ'), ('time', 'NOUN'), ('was', 'VERB'), ('2,303,328', '.'), (',', '.'), ('down', 'ADV'), ('2.6', '.'), ('%', 'NOUN'), ('.', '.'), ('But', 'CONJ'), ('a', 'DET'), ('takeover', 'NOUN'), ('battle', 'NOUN'), ('opens', '.'), ('up', 'ADV'), ('the', 'DET'), ('possibility', 'NOUN'), ('of', 'ADP'), ('a', 'DET'), ('bidding', 'NOUN'), ('war', 'NOUN'), (',', '.'), ('with', 'ADP'), ('all', 'DET'), ('0', 'X'), ('that', 'ADP'), ('implies', 'VERB'), ('*T*-1', 'X'), ('.', '.'), ('``', '.'), ('Each', 'DET'), ('day', 'NOUN'), ('that', 'ADP'), ('Congress', 'NOUN'), ('fails', 'VERB'), ('*-1', 'X'), ('to', 'PRT'), ('act', 'VERB'), ('*T*-2', 'X'), ('...', '.'), ('will', 'VERB'), ('cause', 'VERB'), ('additional', 'ADJ'), ('disruption', '.'), ('in', 'ADP'), ('our', 'PRON'), ('borrowing', 'VERB'), ('schedule', '.'), (',', '.'), ('*', 'X'), ('possibly', 'ADV'), ('resulting', 'VERB'), ('in', 'ADP'), ('higher', 'ADJ'), ('interest', 'NOUN'), ('costs', 'NOUN'), ('to', 'PRT'), ('the', 'DET'), ('taxpayer', '.'), (',', '.'), (\"''\", '.'), ('Treasury', 'NOUN'), ('Secretary', 'NOUN'), ('Nicholas', '.'), ('Brady', '.'), ('said', 'VERB'), ('*T*-3', 'X'), ('in', 'ADP'), ('a', 'DET'), ('speech', 'NOUN'), ('prepared', 'VERB'), ('*', 'X'), ('for', 'ADP'), ('delivery', 'NOUN'), ('last', 'ADJ'), ('night', 'NOUN'), ('to', 'PRT'), ('a', 'DET'), ('group', 'NOUN'), ('of', 'ADP'), ('bankers', 'NOUN'), ('.', '.'), ('And', 'CONJ'), ('an', 'DET'), ('FT-SE', 'NOUN'), ('futures', 'NOUN'), ('contract', 'NOUN'), ('is', 'VERB'), ('traded', 'VERB'), ('*-1', 'X'), ('on', 'ADP'), ('the', 'DET'), ('London', 'NOUN'), ('International', 'NOUN'), ('Financial', 'NOUN'), ('Futures', 'NOUN'), ('Exchange', 'NOUN'), ('.', '.'), ('The', 'DET'), ('offer', 'NOUN'), ('is', 'VERB'), ('being', 'VERB'), ('launched', 'VERB'), ('*-45', 'X'), ('pursuant', 'ADJ'), ('to', 'PRT'), ('a', 'DET'), ('previously', 'ADV'), ('announced', 'VERB'), ('agreement', 'NOUN'), ('between', 'ADP'), ('the', 'DET'), ('companies', 'NOUN'), ('.', '.')]\n"
     ]
    }
   ],
   "source": [
    "print(\"Time taken in seconds: \", difference)\n",
    "print(tagged_seq)"
   ]
  },
  {
   "cell_type": "code",
   "execution_count": 50,
   "metadata": {},
   "outputs": [],
   "source": [
    "# accuracy\n",
    "check = [i for i, j in zip(tagged_seq, test_run_base) if i == j] "
   ]
  },
  {
   "cell_type": "code",
   "execution_count": 51,
   "metadata": {},
   "outputs": [],
   "source": [
    "accuracy = len(check)/len(tagged_seq)"
   ]
  },
  {
   "cell_type": "code",
   "execution_count": 52,
   "metadata": {},
   "outputs": [
    {
     "data": {
      "text/plain": [
       "0.9012875536480687"
      ]
     },
     "execution_count": 52,
     "metadata": {},
     "output_type": "execute_result"
    }
   ],
   "source": [
    "accuracy"
   ]
  },
  {
   "cell_type": "markdown",
   "metadata": {},
   "source": [
    "<b> We can see for the test_tagged_words, the accuracy is `90.13%` only with the Vanilla Viterbi function, which is comparitively lesser than our modified Viterbi functions."
   ]
  },
  {
   "cell_type": "code",
   "execution_count": 53,
   "metadata": {},
   "outputs": [],
   "source": [
    "incorrect_tagged_cases = [[test_run_base[i-1],j] for i, j in enumerate(zip(tagged_seq, test_run_base)) if j[0]!=j[1]]"
   ]
  },
  {
   "cell_type": "code",
   "execution_count": 54,
   "metadata": {},
   "outputs": [
    {
     "data": {
      "text/plain": [
       "[[('The', 'DET'), (('Contra', '.'), ('Contra', 'NOUN'))],\n",
       " [('military', 'ADJ'), (('command', 'VERB'), ('command', 'NOUN'))],\n",
       " [('from', 'ADP'), (('Honduras', '.'), ('Honduras', 'NOUN'))],\n",
       " [('0', 'X'), (('Sandinista', '.'), ('Sandinista', 'NOUN'))],\n",
       " [('major', 'ADJ'), (('offensive', '.'), ('offensive', 'NOUN'))],\n",
       " [('the', 'DET'), (('rebel', '.'), ('rebel', 'NOUN'))],\n",
       " [('*-1', 'X'), (('Bucking', '.'), ('Bucking', 'VERB'))],\n",
       " [('apparently', 'ADV'), (('drew', '.'), ('drew', 'VERB'))],\n",
       " [('its', 'PRON'), (('Eveready', '.'), ('Eveready', 'NOUN'))],\n",
       " [('what', 'PRON'), (('*T*-252', '.'), ('*T*-252', 'X'))],\n",
       " [('*-1', 'X'), (('complaining', '.'), ('complaining', 'VERB'))],\n",
       " [('ended', 'VERB'), (('up', 'ADV'), ('up', 'PRT'))],\n",
       " [('was', 'VERB'), (('2,303,328', '.'), ('2,303,328', 'NUM'))],\n",
       " [('down', 'ADV'), (('2.6', '.'), ('2.6', 'NUM'))],\n",
       " [('battle', 'NOUN'), (('opens', '.'), ('opens', 'VERB'))],\n",
       " [('opens', 'VERB'), (('up', 'ADV'), ('up', 'PRT'))],\n",
       " [('0', 'X'), (('that', 'ADP'), ('that', 'DET'))],\n",
       " [('additional', 'ADJ'), (('disruption', '.'), ('disruption', 'NOUN'))],\n",
       " [('our', 'PRON'), (('borrowing', 'VERB'), ('borrowing', 'NOUN'))],\n",
       " [('borrowing', 'NOUN'), (('schedule', '.'), ('schedule', 'NOUN'))],\n",
       " [('the', 'DET'), (('taxpayer', '.'), ('taxpayer', 'NOUN'))],\n",
       " [('Secretary', 'NOUN'), (('Nicholas', '.'), ('Nicholas', 'NOUN'))],\n",
       " [('Nicholas', 'NOUN'), (('Brady', '.'), ('Brady', 'NOUN'))]]"
      ]
     },
     "execution_count": 54,
     "metadata": {},
     "output_type": "execute_result"
    }
   ],
   "source": [
    "incorrect_tagged_cases"
   ]
  },
  {
   "cell_type": "markdown",
   "metadata": {},
   "source": [
    "### List down cases which were incorrectly tagged by original POS tagger and got corrected by your modifications"
   ]
  },
  {
   "cell_type": "markdown",
   "metadata": {},
   "source": [
    "Below given `test_sents` are the sample sentences given. We can just make it in correct format as in to pass to the Vitebi functions and test/compare the tagging process done by the Vanilla Viterbi as well as the modified Viterbi functions."
   ]
  },
  {
   "cell_type": "code",
   "execution_count": 55,
   "metadata": {},
   "outputs": [],
   "source": [
    "test_sents = ['Android is a mobile operating system developed by Google.',\n",
    "'Android has been the best-selling OS worldwide on smartphones since 2011 and on tablets since 2013.',\n",
    "\"Google and Twitter made a deal in 2015 that gave Google access to Twitter's firehose.\",\n",
    "\"Twitter is an online news and social networking service on which users post and interact with messages known as tweets.\",\n",
    "\"Before entering politics, Donald Trump was a domineering businessman and a television personality.\",\n",
    "\"The 2018 FIFA World Cup is the 21st FIFA World Cup, an international football tournament contested once every four years.\",\n",
    "\"This is the first World Cup to be held in Eastern Europe and the 11th time that it has been held in Europe.\",\n",
    "\"Show me the cheapest round trips from Dallas to Atlanta\",\n",
    "\"I would like to see flights from Denver to Philadelphia.\",\n",
    "\"Show me the price of the flights leaving Atlanta at about 3 in the afternoon and arriving in San Francisco.\",\n",
    "\"NASA invited social media users to experience the launch of ICESAT-2 Satellite.\"]"
   ]
  },
  {
   "cell_type": "code",
   "execution_count": 56,
   "metadata": {},
   "outputs": [],
   "source": [
    "#To tokenize each sentence of the list and store it in a new list.\n",
    "test_sent_words = []\n",
    "for sent in test_sents:\n",
    "    words = word_tokenize(sent)\n",
    "    test_sent_words.append(words)"
   ]
  },
  {
   "cell_type": "code",
   "execution_count": 57,
   "metadata": {},
   "outputs": [],
   "source": [
    "#After tokenizing each sentence, the words would be present as list of sentences. Hence we can reformat this as well.\n",
    "test_sent_words_final = []\n",
    "for sent in test_sent_words:\n",
    "    for word in sent:\n",
    "        test_sent_words_final.append(word)"
   ]
  },
  {
   "cell_type": "code",
   "execution_count": 58,
   "metadata": {},
   "outputs": [
    {
     "name": "stdout",
     "output_type": "stream",
     "text": [
      "['Android', 'is', 'a', 'mobile', 'operating', 'system', 'developed', 'by', 'Google', '.', 'Android', 'has', 'been', 'the', 'best-selling', 'OS', 'worldwide', 'on', 'smartphones', 'since', '2011', 'and', 'on', 'tablets', 'since', '2013', '.', 'Google', 'and', 'Twitter', 'made', 'a', 'deal', 'in', '2015', 'that', 'gave', 'Google', 'access', 'to', 'Twitter', \"'s\", 'firehose', '.', 'Twitter', 'is', 'an', 'online', 'news', 'and', 'social', 'networking', 'service', 'on', 'which', 'users', 'post', 'and', 'interact', 'with', 'messages', 'known', 'as', 'tweets', '.', 'Before', 'entering', 'politics', ',', 'Donald', 'Trump', 'was', 'a', 'domineering', 'businessman', 'and', 'a', 'television', 'personality', '.', 'The', '2018', 'FIFA', 'World', 'Cup', 'is', 'the', '21st', 'FIFA', 'World', 'Cup', ',', 'an', 'international', 'football', 'tournament', 'contested', 'once', 'every', 'four', 'years', '.', 'This', 'is', 'the', 'first', 'World', 'Cup', 'to', 'be', 'held', 'in', 'Eastern', 'Europe', 'and', 'the', '11th', 'time', 'that', 'it', 'has', 'been', 'held', 'in', 'Europe', '.', 'Show', 'me', 'the', 'cheapest', 'round', 'trips', 'from', 'Dallas', 'to', 'Atlanta', 'I', 'would', 'like', 'to', 'see', 'flights', 'from', 'Denver', 'to', 'Philadelphia', '.', 'Show', 'me', 'the', 'price', 'of', 'the', 'flights', 'leaving', 'Atlanta', 'at', 'about', '3', 'in', 'the', 'afternoon', 'and', 'arriving', 'in', 'San', 'Francisco', '.', 'NASA', 'invited', 'social', 'media', 'users', 'to', 'experience', 'the', 'launch', 'of', 'ICESAT-2', 'Satellite', '.']\n"
     ]
    }
   ],
   "source": [
    "#Final sample set of words which can be inputed.\n",
    "print(test_sent_words_final)"
   ]
  },
  {
   "cell_type": "markdown",
   "metadata": {},
   "source": [
    "#### Vanilla Viterbi on Sample sentences"
   ]
  },
  {
   "cell_type": "code",
   "execution_count": 59,
   "metadata": {},
   "outputs": [],
   "source": [
    "# tagging the sample sentences\n",
    "start = time.time()\n",
    "tagged_seq = Viterbi(test_sent_words_final)\n",
    "end = time.time()\n",
    "difference = end-start"
   ]
  },
  {
   "cell_type": "code",
   "execution_count": 60,
   "metadata": {},
   "outputs": [
    {
     "name": "stdout",
     "output_type": "stream",
     "text": [
      "Time taken in seconds:  58.90487337112427\n",
      "[('Android', '.'), ('is', 'VERB'), ('a', 'DET'), ('mobile', 'ADJ'), ('operating', 'NOUN'), ('system', 'NOUN'), ('developed', 'VERB'), ('by', 'ADP'), ('Google', '.'), ('.', '.'), ('Android', '.'), ('has', 'VERB'), ('been', 'VERB'), ('the', 'DET'), ('best-selling', 'ADJ'), ('OS', '.'), ('worldwide', '.'), ('on', 'ADP'), ('smartphones', '.'), ('since', 'ADP'), ('2011', '.'), ('and', 'CONJ'), ('on', 'ADP'), ('tablets', 'NOUN'), ('since', 'ADP'), ('2013', '.'), ('.', '.'), ('Google', '.'), ('and', 'CONJ'), ('Twitter', '.'), ('made', 'VERB'), ('a', 'DET'), ('deal', 'NOUN'), ('in', 'ADP'), ('2015', '.'), ('that', 'DET'), ('gave', 'VERB'), ('Google', '.'), ('access', 'NOUN'), ('to', 'PRT'), ('Twitter', '.'), (\"'s\", 'VERB'), ('firehose', '.'), ('.', '.'), ('Twitter', '.'), ('is', 'VERB'), ('an', 'DET'), ('online', '.'), ('news', 'NOUN'), ('and', 'CONJ'), ('social', 'ADJ'), ('networking', 'NOUN'), ('service', 'NOUN'), ('on', 'ADP'), ('which', 'DET'), ('users', 'NOUN'), ('post', 'NOUN'), ('and', 'CONJ'), ('interact', '.'), ('with', 'ADP'), ('messages', '.'), ('known', 'VERB'), ('as', 'ADP'), ('tweets', '.'), ('.', '.'), ('Before', 'ADP'), ('entering', 'VERB'), ('politics', 'NOUN'), (',', '.'), ('Donald', 'NOUN'), ('Trump', 'NOUN'), ('was', 'VERB'), ('a', 'DET'), ('domineering', '.'), ('businessman', 'NOUN'), ('and', 'CONJ'), ('a', 'DET'), ('television', 'NOUN'), ('personality', '.'), ('.', '.'), ('The', 'DET'), ('2018', '.'), ('FIFA', '.'), ('World', 'NOUN'), ('Cup', '.'), ('is', 'VERB'), ('the', 'DET'), ('21st', '.'), ('FIFA', '.'), ('World', 'NOUN'), ('Cup', '.'), (',', '.'), ('an', 'DET'), ('international', 'ADJ'), ('football', 'NOUN'), ('tournament', '.'), ('contested', '.'), ('once', 'ADV'), ('every', 'DET'), ('four', 'NUM'), ('years', 'NOUN'), ('.', '.'), ('This', 'DET'), ('is', 'VERB'), ('the', 'DET'), ('first', 'ADJ'), ('World', 'NOUN'), ('Cup', '.'), ('to', 'PRT'), ('be', 'VERB'), ('held', 'VERB'), ('in', 'ADP'), ('Eastern', 'NOUN'), ('Europe', 'NOUN'), ('and', 'CONJ'), ('the', 'DET'), ('11th', 'ADJ'), ('time', 'NOUN'), ('that', 'ADP'), ('it', 'PRON'), ('has', 'VERB'), ('been', 'VERB'), ('held', 'VERB'), ('in', 'ADP'), ('Europe', 'NOUN'), ('.', '.'), ('Show', 'NOUN'), ('me', 'PRON'), ('the', 'DET'), ('cheapest', 'ADJ'), ('round', 'NOUN'), ('trips', '.'), ('from', 'ADP'), ('Dallas', 'NOUN'), ('to', 'PRT'), ('Atlanta', 'NOUN'), ('I', 'PRON'), ('would', 'VERB'), ('like', 'ADP'), ('to', 'PRT'), ('see', 'VERB'), ('flights', 'NOUN'), ('from', 'ADP'), ('Denver', 'NOUN'), ('to', 'PRT'), ('Philadelphia', 'NOUN'), ('.', '.'), ('Show', 'NOUN'), ('me', 'PRON'), ('the', 'DET'), ('price', 'NOUN'), ('of', 'ADP'), ('the', 'DET'), ('flights', 'NOUN'), ('leaving', 'VERB'), ('Atlanta', 'NOUN'), ('at', 'ADP'), ('about', 'ADP'), ('3', 'NUM'), ('in', 'ADP'), ('the', 'DET'), ('afternoon', 'NOUN'), ('and', 'CONJ'), ('arriving', '.'), ('in', 'ADP'), ('San', 'NOUN'), ('Francisco', 'NOUN'), ('.', '.'), ('NASA', '.'), ('invited', '.'), ('social', 'ADJ'), ('media', 'NOUN'), ('users', 'NOUN'), ('to', 'PRT'), ('experience', 'NOUN'), ('the', 'DET'), ('launch', 'NOUN'), ('of', 'ADP'), ('ICESAT-2', '.'), ('Satellite', '.'), ('.', '.')]\n"
     ]
    }
   ],
   "source": [
    "print(\"Time taken in seconds: \", difference)\n",
    "print(tagged_seq)"
   ]
  },
  {
   "cell_type": "markdown",
   "metadata": {},
   "source": [
    "By running the sample sentences on the Vanilla Viterbi, some of the tags which got on notice is as below - \n",
    "`Android,Google,ICESAT,2018,personality,Cup`. <br> All these tags are tagged as '.'(since for unknown words random tag is assigned) by the Vanilla Viterbi which is wrong tagging since we know many of these are Nouns while 2018 is a number."
   ]
  },
  {
   "cell_type": "markdown",
   "metadata": {},
   "source": [
    "#### Vitebi modified on sample sentences."
   ]
  },
  {
   "cell_type": "code",
   "execution_count": 61,
   "metadata": {},
   "outputs": [],
   "source": [
    "# tagging the test sentences\n",
    "start = time.time()\n",
    "tagged_seq = Viterbi_modified1(test_sent_words_final)\n",
    "end = time.time()\n",
    "difference = end-start"
   ]
  },
  {
   "cell_type": "code",
   "execution_count": 62,
   "metadata": {},
   "outputs": [
    {
     "name": "stdout",
     "output_type": "stream",
     "text": [
      "Time taken in seconds:  48.70120596885681\n",
      "[('Android', 'NOUN'), ('is', 'VERB'), ('a', 'DET'), ('mobile', 'ADJ'), ('operating', 'NOUN'), ('system', 'NOUN'), ('developed', 'VERB'), ('by', 'ADP'), ('Google', 'DET'), ('.', '.'), ('Android', 'NOUN'), ('has', 'VERB'), ('been', 'VERB'), ('the', 'DET'), ('best-selling', 'ADJ'), ('OS', 'NOUN'), ('worldwide', 'NOUN'), ('on', 'ADP'), ('smartphones', 'DET'), ('since', 'ADP'), ('2011', 'DET'), ('and', 'CONJ'), ('on', 'ADP'), ('tablets', 'NOUN'), ('since', 'ADP'), ('2013', 'DET'), ('.', '.'), ('Google', 'NOUN'), ('and', 'CONJ'), ('Twitter', 'NOUN'), ('made', 'VERB'), ('a', 'DET'), ('deal', 'NOUN'), ('in', 'ADP'), ('2015', 'DET'), ('that', 'ADP'), ('gave', 'VERB'), ('Google', 'X'), ('access', 'NOUN'), ('to', 'PRT'), ('Twitter', 'VERB'), (\"'s\", 'PRT'), ('firehose', 'VERB'), ('.', '.'), ('Twitter', 'NOUN'), ('is', 'VERB'), ('an', 'DET'), ('online', 'NOUN'), ('news', 'NOUN'), ('and', 'CONJ'), ('social', 'ADJ'), ('networking', 'NOUN'), ('service', 'NOUN'), ('on', 'ADP'), ('which', 'DET'), ('users', 'NOUN'), ('post', 'NOUN'), ('and', 'CONJ'), ('interact', 'NOUN'), ('with', 'ADP'), ('messages', 'DET'), ('known', 'ADJ'), ('as', 'ADP'), ('tweets', 'DET'), ('.', '.'), ('Before', 'ADP'), ('entering', 'VERB'), ('politics', 'NOUN'), (',', '.'), ('Donald', 'NOUN'), ('Trump', 'NOUN'), ('was', 'VERB'), ('a', 'DET'), ('domineering', 'NOUN'), ('businessman', 'NOUN'), ('and', 'CONJ'), ('a', 'DET'), ('television', 'NOUN'), ('personality', 'NOUN'), ('.', '.'), ('The', 'DET'), ('2018', 'NOUN'), ('FIFA', 'NOUN'), ('World', 'NOUN'), ('Cup', 'NOUN'), ('is', 'VERB'), ('the', 'DET'), ('21st', 'NOUN'), ('FIFA', 'NOUN'), ('World', 'NOUN'), ('Cup', 'NOUN'), (',', '.'), ('an', 'DET'), ('international', 'ADJ'), ('football', 'NOUN'), ('tournament', 'NOUN'), ('contested', 'NOUN'), ('once', 'ADV'), ('every', 'DET'), ('four', 'NUM'), ('years', 'NOUN'), ('.', '.'), ('This', 'DET'), ('is', 'VERB'), ('the', 'DET'), ('first', 'ADJ'), ('World', 'NOUN'), ('Cup', 'NOUN'), ('to', 'PRT'), ('be', 'VERB'), ('held', 'VERB'), ('in', 'ADP'), ('Eastern', 'NOUN'), ('Europe', 'NOUN'), ('and', 'CONJ'), ('the', 'DET'), ('11th', 'ADJ'), ('time', 'NOUN'), ('that', 'ADP'), ('it', 'PRON'), ('has', 'VERB'), ('been', 'VERB'), ('held', 'VERB'), ('in', 'ADP'), ('Europe', 'NOUN'), ('.', '.'), ('Show', 'NOUN'), ('me', 'PRON'), ('the', 'DET'), ('cheapest', 'ADJ'), ('round', 'NOUN'), ('trips', 'NOUN'), ('from', 'ADP'), ('Dallas', 'NOUN'), ('to', 'PRT'), ('Atlanta', 'NOUN'), ('I', 'PRON'), ('would', 'VERB'), ('like', 'ADP'), ('to', 'PRT'), ('see', 'VERB'), ('flights', 'NOUN'), ('from', 'ADP'), ('Denver', 'NOUN'), ('to', 'PRT'), ('Philadelphia', 'NOUN'), ('.', '.'), ('Show', 'NOUN'), ('me', 'PRON'), ('the', 'DET'), ('price', 'NOUN'), ('of', 'ADP'), ('the', 'DET'), ('flights', 'NOUN'), ('leaving', 'VERB'), ('Atlanta', 'NOUN'), ('at', 'ADP'), ('about', 'ADP'), ('3', 'NUM'), ('in', 'ADP'), ('the', 'DET'), ('afternoon', 'NOUN'), ('and', 'CONJ'), ('arriving', 'NOUN'), ('in', 'ADP'), ('San', 'NOUN'), ('Francisco', 'NOUN'), ('.', '.'), ('NASA', 'NOUN'), ('invited', 'NOUN'), ('social', 'ADJ'), ('media', 'NOUN'), ('users', 'NOUN'), ('to', 'PRT'), ('experience', 'NOUN'), ('the', 'DET'), ('launch', 'NOUN'), ('of', 'ADP'), ('ICESAT-2', 'DET'), ('Satellite', 'NOUN'), ('.', '.')]\n"
     ]
    }
   ],
   "source": [
    "print(\"Time taken in seconds: \", difference)\n",
    "print(tagged_seq)"
   ]
  },
  {
   "cell_type": "markdown",
   "metadata": {},
   "source": [
    "With the Modified Viterbi function by considering only Transmission probability, we can see for the below listed words as tagged - `Android,Google,ICESAT,2018,personality,Cup` <br>\n",
    "Android is tagged correctly here as Noun. <br>\n",
    "Google which happens thrice in the given sample,which was tagged as VERB in vanila viterbi has been tagged differently as Noun,Det,X in different cases by modified function,hence one case of correct prediction. <br>\n",
    "personality and Cup was correclty predicted as Noun. <br>\n",
    "ICESAT and 2018 are wrongly predicted by This approach as well. Hence now we can see with Modified viterbi with regular expression based tagger."
   ]
  },
  {
   "cell_type": "code",
   "execution_count": 63,
   "metadata": {},
   "outputs": [],
   "source": [
    "# tagging the sample sentences\n",
    "start = time.time()\n",
    "tagged_seq = Viterbi_modified2(test_sent_words_final)\n",
    "end = time.time()\n",
    "difference = end-start"
   ]
  },
  {
   "cell_type": "code",
   "execution_count": 64,
   "metadata": {},
   "outputs": [
    {
     "name": "stdout",
     "output_type": "stream",
     "text": [
      "Time taken in seconds:  59.76900911331177\n",
      "[('Android', 'NOUN'), ('is', 'VERB'), ('a', 'DET'), ('mobile', 'ADJ'), ('operating', 'NOUN'), ('system', 'NOUN'), ('developed', 'VERB'), ('by', 'ADP'), ('Google', 'NOUN'), ('.', '.'), ('Android', 'NOUN'), ('has', 'VERB'), ('been', 'VERB'), ('the', 'DET'), ('best-selling', 'ADJ'), ('OS', 'NOUN'), ('worldwide', 'NOUN'), ('on', 'ADP'), ('smartphones', 'VERB'), ('since', 'ADP'), ('2011', 'NUM'), ('and', 'CONJ'), ('on', 'ADP'), ('tablets', 'NOUN'), ('since', 'ADP'), ('2013', 'NUM'), ('.', '.'), ('Google', 'NOUN'), ('and', 'CONJ'), ('Twitter', 'NOUN'), ('made', 'VERB'), ('a', 'DET'), ('deal', 'NOUN'), ('in', 'ADP'), ('2015', 'NUM'), ('that', 'ADP'), ('gave', 'VERB'), ('Google', 'NOUN'), ('access', 'NOUN'), ('to', 'PRT'), ('Twitter', 'NOUN'), (\"'s\", 'PRT'), ('firehose', 'NOUN'), ('.', '.'), ('Twitter', 'NOUN'), ('is', 'VERB'), ('an', 'DET'), ('online', 'NOUN'), ('news', 'NOUN'), ('and', 'CONJ'), ('social', 'ADJ'), ('networking', 'NOUN'), ('service', 'NOUN'), ('on', 'ADP'), ('which', 'DET'), ('users', 'NOUN'), ('post', 'NOUN'), ('and', 'CONJ'), ('interact', 'NOUN'), ('with', 'ADP'), ('messages', 'VERB'), ('known', 'VERB'), ('as', 'ADP'), ('tweets', 'NOUN'), ('.', '.'), ('Before', 'ADP'), ('entering', 'VERB'), ('politics', 'NOUN'), (',', '.'), ('Donald', 'NOUN'), ('Trump', 'NOUN'), ('was', 'VERB'), ('a', 'DET'), ('domineering', 'VERB'), ('businessman', 'NOUN'), ('and', 'CONJ'), ('a', 'DET'), ('television', 'NOUN'), ('personality', 'NOUN'), ('.', '.'), ('The', 'DET'), ('2018', 'NUM'), ('FIFA', 'NOUN'), ('World', 'NOUN'), ('Cup', 'NOUN'), ('is', 'VERB'), ('the', 'DET'), ('21st', 'NOUN'), ('FIFA', 'NOUN'), ('World', 'NOUN'), ('Cup', 'NOUN'), (',', '.'), ('an', 'DET'), ('international', 'ADJ'), ('football', 'NOUN'), ('tournament', 'NOUN'), ('contested', 'VERB'), ('once', 'ADV'), ('every', 'DET'), ('four', 'NUM'), ('years', 'NOUN'), ('.', '.'), ('This', 'DET'), ('is', 'VERB'), ('the', 'DET'), ('first', 'ADJ'), ('World', 'NOUN'), ('Cup', 'NOUN'), ('to', 'PRT'), ('be', 'VERB'), ('held', 'VERB'), ('in', 'ADP'), ('Eastern', 'NOUN'), ('Europe', 'NOUN'), ('and', 'CONJ'), ('the', 'DET'), ('11th', 'ADJ'), ('time', 'NOUN'), ('that', 'ADP'), ('it', 'PRON'), ('has', 'VERB'), ('been', 'VERB'), ('held', 'VERB'), ('in', 'ADP'), ('Europe', 'NOUN'), ('.', '.'), ('Show', 'NOUN'), ('me', 'PRON'), ('the', 'DET'), ('cheapest', 'ADJ'), ('round', 'NOUN'), ('trips', 'NOUN'), ('from', 'ADP'), ('Dallas', 'NOUN'), ('to', 'PRT'), ('Atlanta', 'NOUN'), ('I', 'PRON'), ('would', 'VERB'), ('like', 'ADP'), ('to', 'PRT'), ('see', 'VERB'), ('flights', 'NOUN'), ('from', 'ADP'), ('Denver', 'NOUN'), ('to', 'PRT'), ('Philadelphia', 'NOUN'), ('.', '.'), ('Show', 'NOUN'), ('me', 'PRON'), ('the', 'DET'), ('price', 'NOUN'), ('of', 'ADP'), ('the', 'DET'), ('flights', 'NOUN'), ('leaving', 'VERB'), ('Atlanta', 'NOUN'), ('at', 'ADP'), ('about', 'ADP'), ('3', 'NUM'), ('in', 'ADP'), ('the', 'DET'), ('afternoon', 'NOUN'), ('and', 'CONJ'), ('arriving', 'VERB'), ('in', 'ADP'), ('San', 'NOUN'), ('Francisco', 'NOUN'), ('.', '.'), ('NASA', 'NOUN'), ('invited', 'VERB'), ('social', 'ADJ'), ('media', 'NOUN'), ('users', 'NOUN'), ('to', 'PRT'), ('experience', 'NOUN'), ('the', 'DET'), ('launch', 'NOUN'), ('of', 'ADP'), ('ICESAT-2', 'NOUN'), ('Satellite', 'NOUN'), ('.', '.')]\n"
     ]
    }
   ],
   "source": [
    "print(\"Time taken in seconds: \", difference)\n",
    "print(tagged_seq)"
   ]
  },
  {
   "cell_type": "markdown",
   "metadata": {},
   "source": [
    "With the modified Viterbi with regular expression tagger, all the words - `Android,Google,ICESAT,2018,personality,Cup` are tagged correcctly here."
   ]
  }
 ],
 "metadata": {
  "kernelspec": {
   "display_name": "Python 3",
   "language": "python",
   "name": "python3"
  },
  "language_info": {
   "codemirror_mode": {
    "name": "ipython",
    "version": 3
   },
   "file_extension": ".py",
   "mimetype": "text/x-python",
   "name": "python",
   "nbconvert_exporter": "python",
   "pygments_lexer": "ipython3",
   "version": "3.7.1"
  }
 },
 "nbformat": 4,
 "nbformat_minor": 2
}
